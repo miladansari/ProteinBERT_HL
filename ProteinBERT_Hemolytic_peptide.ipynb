{
  "cells": [
    {
      "cell_type": "markdown",
      "metadata": {
        "colab_type": "text",
        "id": "view-in-github"
      },
      "source": [
        "<a href=\"https://colab.research.google.com/github/miladansari/ProteinBERT_HL/blob/main/ProteinBERT_Hemolytic_peptide.ipynb\" target=\"_parent\"><img src=\"https://colab.research.google.com/assets/colab-badge.svg\" alt=\"Open In Colab\"/></a>"
      ]
    },
    {
      "cell_type": "markdown",
      "metadata": {
        "id": "NXv3rhrPrzY-"
      },
      "source": [
        "## Introduction\n",
        "\n",
        "In this Google Colab notebook, we will be building a classifier based on ProteinBERT pre-trained embedding. This classifier will be utilized to gain insights into the properties of hemolytic peptides under different methods. Additionally, we will be introducing a sequence optimization method that involves using the selected classifier and random point mutations. In the subsequent sections, we will delve deeper into the details of these methods.\n"
      ]
    },
    {
      "cell_type": "code",
      "execution_count": null,
      "metadata": {
        "colab": {
          "base_uri": "https://localhost:8080/"
        },
        "id": "PdG75MbiRAdo",
        "outputId": "313f4c31-9779-4b3c-ffa8-0e3b7c168c46"
      },
      "outputs": [
        {
          "name": "stdout",
          "output_type": "stream",
          "text": [
            "/content/drive/MyDrive/protein-bert/proteinbert\n",
            "Looking in indexes: https://pypi.org/simple, https://us-python.pkg.dev/colab-wheels/public/simple/\n",
            "Collecting git+https://github.com/miladansari/protein_bert.git\n",
            "  Cloning https://github.com/miladansari/protein_bert.git to /tmp/pip-req-build-ga7hdf27\n",
            "  Running command git clone --filter=blob:none --quiet https://github.com/miladansari/protein_bert.git /tmp/pip-req-build-ga7hdf27\n",
            "  Resolved https://github.com/miladansari/protein_bert.git to commit 10d7a6d8af31c5fcccbfe32abe7e908e7f5f369b\n",
            "  Running command git submodule update --init --recursive -q\n",
            "  Preparing metadata (setup.py) ... \u001b[?25l\u001b[?25hdone\n",
            "Requirement already satisfied: tensorflow in /usr/local/lib/python3.9/dist-packages (from protein-bert==1.0.1) (2.11.0)\n",
            "Collecting tensorflow_addons\n",
            "  Downloading tensorflow_addons-0.19.0-cp39-cp39-manylinux_2_17_x86_64.manylinux2014_x86_64.whl (1.1 MB)\n",
            "\u001b[2K     \u001b[90m━━━━━━━━━━━━━━━━━━━━━━━━━━━━━━━━━━━━━━━━\u001b[0m \u001b[32m1.1/1.1 MB\u001b[0m \u001b[31m44.5 MB/s\u001b[0m eta \u001b[36m0:00:00\u001b[0m\n",
            "\u001b[?25hRequirement already satisfied: numpy in /usr/local/lib/python3.9/dist-packages (from protein-bert==1.0.1) (1.22.4)\n",
            "Requirement already satisfied: pandas in /usr/local/lib/python3.9/dist-packages (from protein-bert==1.0.1) (1.4.4)\n",
            "Requirement already satisfied: h5py in /usr/local/lib/python3.9/dist-packages (from protein-bert==1.0.1) (3.8.0)\n",
            "Requirement already satisfied: lxml in /usr/local/lib/python3.9/dist-packages (from protein-bert==1.0.1) (4.9.2)\n",
            "Collecting pyfaidx\n",
            "  Downloading pyfaidx-0.7.2.1-py3-none-any.whl (28 kB)\n",
            "Requirement already satisfied: python-dateutil>=2.8.1 in /usr/local/lib/python3.9/dist-packages (from pandas->protein-bert==1.0.1) (2.8.2)\n",
            "Requirement already satisfied: pytz>=2020.1 in /usr/local/lib/python3.9/dist-packages (from pandas->protein-bert==1.0.1) (2022.7.1)\n",
            "Requirement already satisfied: setuptools in /usr/local/lib/python3.9/dist-packages (from pyfaidx->protein-bert==1.0.1) (67.6.0)\n",
            "Requirement already satisfied: six in /usr/local/lib/python3.9/dist-packages (from pyfaidx->protein-bert==1.0.1) (1.16.0)\n",
            "Requirement already satisfied: keras<2.12,>=2.11.0 in /usr/local/lib/python3.9/dist-packages (from tensorflow->protein-bert==1.0.1) (2.11.0)\n",
            "Requirement already satisfied: opt-einsum>=2.3.2 in /usr/local/lib/python3.9/dist-packages (from tensorflow->protein-bert==1.0.1) (3.3.0)\n",
            "Requirement already satisfied: termcolor>=1.1.0 in /usr/local/lib/python3.9/dist-packages (from tensorflow->protein-bert==1.0.1) (2.2.0)\n",
            "Requirement already satisfied: typing-extensions>=3.6.6 in /usr/local/lib/python3.9/dist-packages (from tensorflow->protein-bert==1.0.1) (4.5.0)\n",
            "Requirement already satisfied: grpcio<2.0,>=1.24.3 in /usr/local/lib/python3.9/dist-packages (from tensorflow->protein-bert==1.0.1) (1.51.3)\n",
            "Requirement already satisfied: astunparse>=1.6.0 in /usr/local/lib/python3.9/dist-packages (from tensorflow->protein-bert==1.0.1) (1.6.3)\n",
            "Requirement already satisfied: packaging in /usr/local/lib/python3.9/dist-packages (from tensorflow->protein-bert==1.0.1) (23.0)\n",
            "Requirement already satisfied: tensorflow-estimator<2.12,>=2.11.0 in /usr/local/lib/python3.9/dist-packages (from tensorflow->protein-bert==1.0.1) (2.11.0)\n",
            "Requirement already satisfied: flatbuffers>=2.0 in /usr/local/lib/python3.9/dist-packages (from tensorflow->protein-bert==1.0.1) (23.3.3)\n",
            "Requirement already satisfied: wrapt>=1.11.0 in /usr/local/lib/python3.9/dist-packages (from tensorflow->protein-bert==1.0.1) (1.15.0)\n",
            "Requirement already satisfied: gast<=0.4.0,>=0.2.1 in /usr/local/lib/python3.9/dist-packages (from tensorflow->protein-bert==1.0.1) (0.4.0)\n",
            "Requirement already satisfied: protobuf<3.20,>=3.9.2 in /usr/local/lib/python3.9/dist-packages (from tensorflow->protein-bert==1.0.1) (3.19.6)\n",
            "Requirement already satisfied: libclang>=13.0.0 in /usr/local/lib/python3.9/dist-packages (from tensorflow->protein-bert==1.0.1) (15.0.6.1)\n",
            "Requirement already satisfied: google-pasta>=0.1.1 in /usr/local/lib/python3.9/dist-packages (from tensorflow->protein-bert==1.0.1) (0.2.0)\n",
            "Requirement already satisfied: absl-py>=1.0.0 in /usr/local/lib/python3.9/dist-packages (from tensorflow->protein-bert==1.0.1) (1.4.0)\n",
            "Requirement already satisfied: tensorflow-io-gcs-filesystem>=0.23.1 in /usr/local/lib/python3.9/dist-packages (from tensorflow->protein-bert==1.0.1) (0.31.0)\n",
            "Requirement already satisfied: tensorboard<2.12,>=2.11 in /usr/local/lib/python3.9/dist-packages (from tensorflow->protein-bert==1.0.1) (2.11.2)\n",
            "Collecting typeguard>=2.7\n",
            "  Downloading typeguard-3.0.2-py3-none-any.whl (30 kB)\n",
            "Requirement already satisfied: wheel<1.0,>=0.23.0 in /usr/local/lib/python3.9/dist-packages (from astunparse>=1.6.0->tensorflow->protein-bert==1.0.1) (0.40.0)\n",
            "Requirement already satisfied: requests<3,>=2.21.0 in /usr/local/lib/python3.9/dist-packages (from tensorboard<2.12,>=2.11->tensorflow->protein-bert==1.0.1) (2.27.1)\n",
            "Requirement already satisfied: werkzeug>=1.0.1 in /usr/local/lib/python3.9/dist-packages (from tensorboard<2.12,>=2.11->tensorflow->protein-bert==1.0.1) (2.2.3)\n",
            "Requirement already satisfied: markdown>=2.6.8 in /usr/local/lib/python3.9/dist-packages (from tensorboard<2.12,>=2.11->tensorflow->protein-bert==1.0.1) (3.4.3)\n",
            "Requirement already satisfied: tensorboard-plugin-wit>=1.6.0 in /usr/local/lib/python3.9/dist-packages (from tensorboard<2.12,>=2.11->tensorflow->protein-bert==1.0.1) (1.8.1)\n",
            "Requirement already satisfied: tensorboard-data-server<0.7.0,>=0.6.0 in /usr/local/lib/python3.9/dist-packages (from tensorboard<2.12,>=2.11->tensorflow->protein-bert==1.0.1) (0.6.1)\n",
            "Requirement already satisfied: google-auth-oauthlib<0.5,>=0.4.1 in /usr/local/lib/python3.9/dist-packages (from tensorboard<2.12,>=2.11->tensorflow->protein-bert==1.0.1) (0.4.6)\n",
            "Requirement already satisfied: google-auth<3,>=1.6.3 in /usr/local/lib/python3.9/dist-packages (from tensorboard<2.12,>=2.11->tensorflow->protein-bert==1.0.1) (2.16.2)\n",
            "Requirement already satisfied: importlib-metadata>=3.6 in /usr/local/lib/python3.9/dist-packages (from typeguard>=2.7->tensorflow_addons->protein-bert==1.0.1) (6.1.0)\n",
            "Requirement already satisfied: pyasn1-modules>=0.2.1 in /usr/local/lib/python3.9/dist-packages (from google-auth<3,>=1.6.3->tensorboard<2.12,>=2.11->tensorflow->protein-bert==1.0.1) (0.2.8)\n",
            "Requirement already satisfied: rsa<5,>=3.1.4 in /usr/local/lib/python3.9/dist-packages (from google-auth<3,>=1.6.3->tensorboard<2.12,>=2.11->tensorflow->protein-bert==1.0.1) (4.9)\n",
            "Requirement already satisfied: cachetools<6.0,>=2.0.0 in /usr/local/lib/python3.9/dist-packages (from google-auth<3,>=1.6.3->tensorboard<2.12,>=2.11->tensorflow->protein-bert==1.0.1) (5.3.0)\n",
            "Requirement already satisfied: requests-oauthlib>=0.7.0 in /usr/local/lib/python3.9/dist-packages (from google-auth-oauthlib<0.5,>=0.4.1->tensorboard<2.12,>=2.11->tensorflow->protein-bert==1.0.1) (1.3.1)\n",
            "Requirement already satisfied: zipp>=0.5 in /usr/local/lib/python3.9/dist-packages (from importlib-metadata>=3.6->typeguard>=2.7->tensorflow_addons->protein-bert==1.0.1) (3.15.0)\n",
            "Requirement already satisfied: charset-normalizer~=2.0.0 in /usr/local/lib/python3.9/dist-packages (from requests<3,>=2.21.0->tensorboard<2.12,>=2.11->tensorflow->protein-bert==1.0.1) (2.0.12)\n",
            "Requirement already satisfied: idna<4,>=2.5 in /usr/local/lib/python3.9/dist-packages (from requests<3,>=2.21.0->tensorboard<2.12,>=2.11->tensorflow->protein-bert==1.0.1) (3.4)\n",
            "Requirement already satisfied: certifi>=2017.4.17 in /usr/local/lib/python3.9/dist-packages (from requests<3,>=2.21.0->tensorboard<2.12,>=2.11->tensorflow->protein-bert==1.0.1) (2022.12.7)\n",
            "Requirement already satisfied: urllib3<1.27,>=1.21.1 in /usr/local/lib/python3.9/dist-packages (from requests<3,>=2.21.0->tensorboard<2.12,>=2.11->tensorflow->protein-bert==1.0.1) (1.26.15)\n",
            "Requirement already satisfied: MarkupSafe>=2.1.1 in /usr/local/lib/python3.9/dist-packages (from werkzeug>=1.0.1->tensorboard<2.12,>=2.11->tensorflow->protein-bert==1.0.1) (2.1.2)\n",
            "Requirement already satisfied: pyasn1<0.5.0,>=0.4.6 in /usr/local/lib/python3.9/dist-packages (from pyasn1-modules>=0.2.1->google-auth<3,>=1.6.3->tensorboard<2.12,>=2.11->tensorflow->protein-bert==1.0.1) (0.4.8)\n",
            "Requirement already satisfied: oauthlib>=3.0.0 in /usr/local/lib/python3.9/dist-packages (from requests-oauthlib>=0.7.0->google-auth-oauthlib<0.5,>=0.4.1->tensorboard<2.12,>=2.11->tensorflow->protein-bert==1.0.1) (3.2.2)\n",
            "Building wheels for collected packages: protein-bert\n",
            "  Building wheel for protein-bert (setup.py) ... \u001b[?25l\u001b[?25hdone\n",
            "  Created wheel for protein-bert: filename=protein_bert-1.0.1-py3-none-any.whl size=39337 sha256=9255c74ce2a8e9864e52e1b62b2eb0679a86d7cf9980418246be62fd98f9f135\n",
            "  Stored in directory: /tmp/pip-ephem-wheel-cache-rru9oppl/wheels/81/29/7f/0474ed9636254fbdf55cb115043c742b807570d9d99f728e91\n",
            "Successfully built protein-bert\n",
            "Installing collected packages: pyfaidx, typeguard, tensorflow_addons, protein-bert\n",
            "Successfully installed protein-bert-1.0.1 pyfaidx-0.7.2.1 tensorflow_addons-0.19.0 typeguard-3.0.2\n",
            "fatal: destination path 'shared_utils' already exists and is not an empty directory.\n"
          ]
        },
        {
          "name": "stderr",
          "output_type": "stream",
          "text": [
            "WARNING:absl:`lr` is deprecated, please use `learning_rate` instead, or use the legacy optimizer, e.g.,tf.keras.optimizers.legacy.Adam.\n"
          ]
        },
        {
          "name": "stdout",
          "output_type": "stream",
          "text": [
            "102/102 [==============================] - 17s 21ms/step\n",
            "16/16 [==============================] - 0s 18ms/step\n",
            "Fit model on training data\n",
            "Epoch 1/50\n",
            "102/102 [==============================] - 2s 11ms/step - loss: 0.5692 - accuracy: 0.7153 - val_loss: 0.5461 - val_accuracy: 0.7403 - lr: 1.0000e-04\n",
            "Epoch 2/50\n",
            "102/102 [==============================] - 1s 8ms/step - loss: 0.4914 - accuracy: 0.7824 - val_loss: 0.5286 - val_accuracy: 0.7526 - lr: 1.0000e-04\n",
            "Epoch 3/50\n",
            "102/102 [==============================] - 1s 7ms/step - loss: 0.4639 - accuracy: 0.7996 - val_loss: 0.5059 - val_accuracy: 0.7566 - lr: 1.0000e-04\n",
            "Epoch 4/50\n",
            "102/102 [==============================] - 1s 7ms/step - loss: 0.4453 - accuracy: 0.8104 - val_loss: 0.4947 - val_accuracy: 0.7669 - lr: 1.0000e-04\n",
            "Epoch 5/50\n",
            "102/102 [==============================] - 1s 12ms/step - loss: 0.4333 - accuracy: 0.8138 - val_loss: 0.4953 - val_accuracy: 0.7791 - lr: 1.0000e-04\n",
            "Epoch 6/50\n",
            "102/102 [==============================] - 1s 13ms/step - loss: 0.4175 - accuracy: 0.8221 - val_loss: 0.4972 - val_accuracy: 0.7832 - lr: 1.0000e-04\n",
            "Epoch 7/50\n",
            "102/102 [==============================] - 2s 16ms/step - loss: 0.4131 - accuracy: 0.8301 - val_loss: 0.4757 - val_accuracy: 0.7955 - lr: 1.0000e-04\n",
            "Epoch 8/50\n",
            "102/102 [==============================] - 2s 16ms/step - loss: 0.4006 - accuracy: 0.8335 - val_loss: 0.4795 - val_accuracy: 0.7812 - lr: 1.0000e-04\n",
            "Epoch 9/50\n",
            "102/102 [==============================] - 2s 15ms/step - loss: 0.3949 - accuracy: 0.8375 - val_loss: 0.4859 - val_accuracy: 0.7648 - lr: 1.0000e-04\n",
            "Epoch 10/50\n",
            "102/102 [==============================] - 1s 12ms/step - loss: 0.3853 - accuracy: 0.8427 - val_loss: 0.4780 - val_accuracy: 0.7751 - lr: 1.0000e-04\n",
            "Epoch 11/50\n",
            "102/102 [==============================] - 1s 11ms/step - loss: 0.3824 - accuracy: 0.8433 - val_loss: 0.4729 - val_accuracy: 0.7751 - lr: 1.0000e-04\n",
            "Epoch 12/50\n",
            "102/102 [==============================] - 1s 12ms/step - loss: 0.3730 - accuracy: 0.8520 - val_loss: 0.4637 - val_accuracy: 0.8057 - lr: 1.0000e-04\n",
            "Epoch 13/50\n",
            "102/102 [==============================] - 1s 13ms/step - loss: 0.3698 - accuracy: 0.8523 - val_loss: 0.4735 - val_accuracy: 0.8057 - lr: 1.0000e-04\n",
            "Epoch 14/50\n",
            "102/102 [==============================] - 1s 11ms/step - loss: 0.3622 - accuracy: 0.8529 - val_loss: 0.4765 - val_accuracy: 0.7669 - lr: 1.0000e-04\n",
            "Epoch 15/50\n",
            "102/102 [==============================] - 1s 10ms/step - loss: 0.3592 - accuracy: 0.8572 - val_loss: 0.4633 - val_accuracy: 0.8078 - lr: 1.0000e-04\n",
            "Epoch 16/50\n",
            "102/102 [==============================] - 1s 11ms/step - loss: 0.3536 - accuracy: 0.8581 - val_loss: 0.4672 - val_accuracy: 0.7832 - lr: 1.0000e-04\n",
            "Epoch 17/50\n",
            "102/102 [==============================] - 1s 11ms/step - loss: 0.3484 - accuracy: 0.8584 - val_loss: 0.4601 - val_accuracy: 0.8078 - lr: 1.0000e-04\n",
            "Epoch 18/50\n",
            "102/102 [==============================] - 2s 15ms/step - loss: 0.3439 - accuracy: 0.8596 - val_loss: 0.4591 - val_accuracy: 0.8119 - lr: 1.0000e-04\n",
            "Epoch 19/50\n",
            "102/102 [==============================] - 1s 12ms/step - loss: 0.3412 - accuracy: 0.8652 - val_loss: 0.4654 - val_accuracy: 0.8078 - lr: 1.0000e-04\n",
            "Epoch 20/50\n",
            "102/102 [==============================] - 1s 13ms/step - loss: 0.3379 - accuracy: 0.8652 - val_loss: 0.4578 - val_accuracy: 0.8078 - lr: 1.0000e-04\n",
            "Epoch 21/50\n",
            "102/102 [==============================] - 1s 13ms/step - loss: 0.3394 - accuracy: 0.8673 - val_loss: 0.4655 - val_accuracy: 0.7771 - lr: 1.0000e-04\n",
            "Epoch 22/50\n",
            "102/102 [==============================] - 1s 12ms/step - loss: 0.3323 - accuracy: 0.8692 - val_loss: 0.4610 - val_accuracy: 0.8160 - lr: 1.0000e-04\n",
            "Epoch 23/50\n",
            "102/102 [==============================] - 1s 13ms/step - loss: 0.3301 - accuracy: 0.8670 - val_loss: 0.4597 - val_accuracy: 0.8037 - lr: 1.0000e-04\n",
            "Epoch 24/50\n",
            "102/102 [==============================] - 1s 11ms/step - loss: 0.3261 - accuracy: 0.8729 - val_loss: 0.4657 - val_accuracy: 0.7791 - lr: 1.0000e-04\n",
            "Epoch 25/50\n",
            "102/102 [==============================] - 1s 12ms/step - loss: 0.3193 - accuracy: 0.8695 - val_loss: 0.4624 - val_accuracy: 0.8057 - lr: 1.0000e-04\n",
            "Epoch 26/50\n",
            "102/102 [==============================] - 1s 12ms/step - loss: 0.3137 - accuracy: 0.8769 - val_loss: 0.4589 - val_accuracy: 0.8016 - lr: 2.0000e-05\n",
            "Epoch 27/50\n",
            "102/102 [==============================] - 1s 11ms/step - loss: 0.3126 - accuracy: 0.8809 - val_loss: 0.4600 - val_accuracy: 0.8160 - lr: 2.0000e-05\n",
            "Epoch 28/50\n",
            "102/102 [==============================] - 1s 11ms/step - loss: 0.3115 - accuracy: 0.8778 - val_loss: 0.4590 - val_accuracy: 0.7975 - lr: 2.0000e-05\n",
            "Epoch 29/50\n",
            "102/102 [==============================] - 1s 13ms/step - loss: 0.3108 - accuracy: 0.8778 - val_loss: 0.4580 - val_accuracy: 0.8057 - lr: 2.0000e-05\n",
            "Epoch 30/50\n",
            "102/102 [==============================] - 2s 16ms/step - loss: 0.3110 - accuracy: 0.8781 - val_loss: 0.4586 - val_accuracy: 0.7996 - lr: 2.0000e-05\n",
            "Epoch 31/50\n",
            "102/102 [==============================] - 2s 17ms/step - loss: 0.3093 - accuracy: 0.8781 - val_loss: 0.4584 - val_accuracy: 0.8119 - lr: 1.0000e-05\n",
            "Epoch 32/50\n",
            "102/102 [==============================] - 2s 16ms/step - loss: 0.3085 - accuracy: 0.8797 - val_loss: 0.4585 - val_accuracy: 0.7975 - lr: 1.0000e-05\n",
            "Epoch 33/50\n",
            "102/102 [==============================] - 1s 12ms/step - loss: 0.3088 - accuracy: 0.8790 - val_loss: 0.4578 - val_accuracy: 0.8037 - lr: 1.0000e-05\n",
            "Epoch 34/50\n",
            "102/102 [==============================] - 1s 10ms/step - loss: 0.3087 - accuracy: 0.8793 - val_loss: 0.4580 - val_accuracy: 0.8078 - lr: 1.0000e-05\n",
            "Epoch 35/50\n",
            "102/102 [==============================] - 1s 11ms/step - loss: 0.3086 - accuracy: 0.8800 - val_loss: 0.4585 - val_accuracy: 0.8160 - lr: 1.0000e-05\n",
            "Epoch 36/50\n",
            "102/102 [==============================] - 1s 10ms/step - loss: 0.3082 - accuracy: 0.8769 - val_loss: 0.4578 - val_accuracy: 0.7996 - lr: 1.0000e-05\n",
            "Epoch 37/50\n",
            "102/102 [==============================] - 1s 11ms/step - loss: 0.3078 - accuracy: 0.8815 - val_loss: 0.4590 - val_accuracy: 0.7955 - lr: 1.0000e-05\n",
            "Epoch 38/50\n",
            "102/102 [==============================] - 1s 10ms/step - loss: 0.3068 - accuracy: 0.8818 - val_loss: 0.4583 - val_accuracy: 0.8139 - lr: 1.0000e-05\n",
            "Epoch 39/50\n",
            "102/102 [==============================] - 1s 8ms/step - loss: 0.3073 - accuracy: 0.8793 - val_loss: 0.4581 - val_accuracy: 0.7975 - lr: 1.0000e-05\n",
            "Epoch 40/50\n",
            "102/102 [==============================] - 1s 7ms/step - loss: 0.3068 - accuracy: 0.8800 - val_loss: 0.4579 - val_accuracy: 0.7975 - lr: 1.0000e-05\n",
            "Epoch 41/50\n",
            "102/102 [==============================] - 1s 8ms/step - loss: 0.3065 - accuracy: 0.8803 - val_loss: 0.4585 - val_accuracy: 0.8160 - lr: 1.0000e-05\n",
            "Epoch 42/50\n",
            "102/102 [==============================] - 1s 10ms/step - loss: 0.3065 - accuracy: 0.8821 - val_loss: 0.4593 - val_accuracy: 0.7935 - lr: 1.0000e-05\n",
            "Epoch 43/50\n",
            "102/102 [==============================] - 1s 10ms/step - loss: 0.3058 - accuracy: 0.8787 - val_loss: 0.4583 - val_accuracy: 0.7955 - lr: 1.0000e-05\n",
            "Epoch 44/50\n",
            "102/102 [==============================] - 1s 9ms/step - loss: 0.3057 - accuracy: 0.8800 - val_loss: 0.4580 - val_accuracy: 0.7975 - lr: 1.0000e-05\n",
            "Epoch 45/50\n",
            "102/102 [==============================] - 1s 9ms/step - loss: 0.3057 - accuracy: 0.8809 - val_loss: 0.4582 - val_accuracy: 0.8078 - lr: 1.0000e-05\n",
            "Epoch 46/50\n",
            "102/102 [==============================] - 1s 8ms/step - loss: 0.3043 - accuracy: 0.8833 - val_loss: 0.4596 - val_accuracy: 0.8160 - lr: 1.0000e-05\n",
            "Epoch 47/50\n",
            "102/102 [==============================] - 1s 7ms/step - loss: 0.3051 - accuracy: 0.8797 - val_loss: 0.4576 - val_accuracy: 0.8078 - lr: 1.0000e-05\n",
            "Epoch 48/50\n",
            "102/102 [==============================] - 1s 7ms/step - loss: 0.3045 - accuracy: 0.8821 - val_loss: 0.4593 - val_accuracy: 0.8160 - lr: 1.0000e-05\n",
            "Epoch 49/50\n",
            "102/102 [==============================] - 1s 8ms/step - loss: 0.3044 - accuracy: 0.8818 - val_loss: 0.4580 - val_accuracy: 0.7975 - lr: 1.0000e-05\n",
            "Epoch 50/50\n",
            "102/102 [==============================] - 1s 8ms/step - loss: 0.3040 - accuracy: 0.8806 - val_loss: 0.4577 - val_accuracy: 0.7975 - lr: 1.0000e-05\n"
          ]
        }
      ],
      "source": [
        "from google.colab import drive\n",
        "drive.mount('/content/drive')\n",
        "\n",
        "\n",
        "\n",
        "!pip install git+'https://github.com/miladansari/protein_bert.git'\n",
        "!git clone https://github.com/nadavbra/shared_utils.git\n",
        "!git clone https://github.com/miladansari/ProteinBERT_HL.git\n",
        "#import related libraries\n",
        "\n",
        "import numpy as np\n",
        "import tensorflow as tf\n",
        "from tensorflow import keras\n",
        "from tensorflow.keras.preprocessing.text import Tokenizer\n",
        "from tensorflow.keras import layers\n",
        "import matplotlib.pyplot as plt\n",
        "import datetime\n",
        "from pandas import read_csv\n",
        "%load_ext tensorboard\n",
        "\n",
        "\n",
        "#reading files.\n",
        "\n",
        "test = read_csv('/content/ProteinBERT_HL/hemolytic.test.csv',skipinitialspace=True)\n",
        "train = read_csv('/content/ProteinBERT_HL/hemolytic.train.csv',skipinitialspace=True)\n",
        "\n",
        "seqs=train['seq']\n",
        "seqs_test=test['seq']\n",
        "\n",
        "#set sequence length to 37 (the longest sequence in dataset is 35 and the model will add <start> and <end> token to the sequence.\n",
        "\n",
        "seq_len=37\n",
        "batch_size=32\n",
        "\n",
        "from proteinbert import load_pretrained_model\n",
        "from proteinbert.conv_and_global_attention_model import get_model_with_hidden_layers_as_outputs\n",
        "\n",
        "#load pretrained model.\n",
        "pretrained_model_generator, input_encoder = load_pretrained_model(local_model_dump_dir='/content')\n",
        "model = get_model_with_hidden_layers_as_outputs(pretrained_model_generator.create_model(seq_len))\n",
        "\n",
        "#extract local representaion (Embeddings).\n",
        "X = input_encoder.encode_X(seqs, seq_len)\n",
        "local_representations, global_representations= model.predict(X, batch_size = batch_size)\n",
        "\n",
        "X_test= input_encoder.encode_X(seqs_test, seq_len)\n",
        "local_representations_test, global_representations_test= model.predict(X_test, batch_size = batch_size)\n",
        "\n",
        "#simple classifier\n",
        "model_D=tf.keras.models.Sequential([\n",
        "    tf.keras.layers.Flatten(input_shape = local_representations[0].shape),\n",
        "    tf.keras.layers.Dense(1, activation = 'sigmoid')])\n",
        "\n",
        "opt= tf.keras.optimizers.Adam(learning_rate=0.0001)\n",
        "model_D.compile(optimizer=opt, loss=tf.keras.losses.binary_crossentropy, metrics=[\"accuracy\"])\n",
        "\n",
        "#in order to track model performance using Tensorboard uncomment the next two lines of code\n",
        "\n",
        "#log_dir = \"logs/fit/\" + datetime.datetime.now().strftime(\"%Y%m%d-%H%M%S\")\n",
        "#tensorboard_callback = tf.keras.callbacks.TensorBoard(log_dir=log_dir, histogram_freq=1)\n",
        "\n",
        "print(\"Fit model on training data\")\n",
        "reduce_lr =tf.keras.callbacks.ReduceLROnPlateau(monitor='val_loss', factor=0.2,patience=5, min_lr=0.00001)\n",
        "history_D = model_D.fit(local_representations, train['label'], validation_data=(local_representations_test,test['label']), batch_size=32, epochs=50,callbacks=[reduce_lr])"
      ]
    },
    {
      "cell_type": "code",
      "execution_count": null,
      "metadata": {
        "id": "eWKCoXxbRaMG"
      },
      "outputs": [],
      "source": [
        "# in order to load tensorboard inside the colab notebook uncomment the following line\n",
        "#%tensorboard --logdir logs/fit"
      ]
    },
    {
      "cell_type": "code",
      "execution_count": null,
      "metadata": {
        "id": "9z9txbGOozpE"
      },
      "outputs": [],
      "source": []
    },
    {
      "cell_type": "code",
      "execution_count": null,
      "metadata": {
        "colab": {
          "base_uri": "https://localhost:8080/"
        },
        "id": "yjh6CxrYT7Xj",
        "outputId": "056cab08-7549-40b7-f12b-b992e1bef279"
      },
      "outputs": [
        {
          "name": "stdout",
          "output_type": "stream",
          "text": [
            "16/16 [==============================] - 0s 4ms/step\n",
            "tf.Tensor(\n",
            "[[232  48]\n",
            " [ 51 158]], shape=(2, 2), dtype=int32)\n"
          ]
        }
      ],
      "source": [
        "#prediction over testset and confusion matrix.\n",
        "\n",
        "prediction=model_D.predict(local_representations_test[:,:,:])\n",
        "predictionz=[]\n",
        "for i in prediction:\n",
        "  if i >0.5:\n",
        "    predictionz.append(1)\n",
        "\n",
        "  else:\n",
        "    predictionz.append(0)\n",
        "\n",
        "confusion_matrix=tf.math.confusion_matrix(labels=test['label'],predictions=predictionz,num_classes=2)\n",
        "print(confusion_matrix)"
      ]
    },
    {
      "cell_type": "code",
      "execution_count": null,
      "metadata": {
        "colab": {
          "base_uri": "https://localhost:8080/",
          "height": 282
        },
        "id": "mgYLCfdvwI8M",
        "outputId": "1fe1640c-5dfd-4cf2-c14b-3dfa065dc487"
      },
      "outputs": [
        {
          "data": {
            "image/png": "[encoded data removed]",
            "text/plain": [
              "<Figure size 432x288 with 1 Axes>"
            ]
          },
          "metadata": {
            "needs_background": "light"
          },
          "output_type": "display_data"
        }
      ],
      "source": [
        "#plot the histogram of predictions on test set\n",
        "import matplotlib.pyplot as plt\n",
        "import pandas as pd\n",
        "plt.hist(prediction, bins=60, color='k')\n",
        "plt.xlabel('Probability')\n",
        "plt.ylabel('Count')\n",
        "plt.axvline(np.mean(prediction), color='r', linestyle='solid', linewidth=2)\n",
        "plt.show()"
      ]
    },
    {
      "cell_type": "code",
      "execution_count": null,
      "metadata": {
        "colab": {
          "base_uri": "https://localhost:8080/",
          "height": 296
        },
        "id": "nDIYGl0qYbDw",
        "outputId": "510c1f98-2589-4fa3-8a17-ac81aa086c66"
      },
      "outputs": [
        {
          "name": "stderr",
          "output_type": "stream",
          "text": [
            "WARNING:matplotlib.legend:No artists with labels found to put in legend.  Note that artists whose label start with an underscore are ignored when legend() is called with no argument.\n"
          ]
        },
        {
          "data": {
            "image/png": "[encoded data removed]",
            "text/plain": [
              "<Figure size 432x288 with 1 Axes>"
            ]
          },
          "metadata": {
            "needs_background": "light"
          },
          "output_type": "display_data"
        }
      ],
      "source": [
        "pltz=[]\n",
        "for i in seqs_test:\n",
        "  pltz.append(len(i))\n",
        "plt.hist(pltz, color='k',bins=15)\n",
        "plt.xlabel('sequence length')\n",
        "plt.legend(title='test dataset')\n",
        "plt.show()"
      ]
    },
    {
      "cell_type": "code",
      "execution_count": null,
      "metadata": {
        "colab": {
          "base_uri": "https://localhost:8080/",
          "height": 296
        },
        "id": "2i1_jL-oZQYX",
        "outputId": "f62bf3d7-eee1-47bc-de30-babb8c1a2629"
      },
      "outputs": [
        {
          "name": "stderr",
          "output_type": "stream",
          "text": [
            "WARNING:matplotlib.legend:No artists with labels found to put in legend.  Note that artists whose label start with an underscore are ignored when legend() is called with no argument.\n"
          ]
        },
        {
          "data": {
            "image/png": "[encoded data removed]",
            "text/plain": [
              "<Figure size 432x288 with 1 Axes>"
            ]
          },
          "metadata": {
            "needs_background": "light"
          },
          "output_type": "display_data"
        }
      ],
      "source": [
        "pltz=[]\n",
        "for i in seqs:\n",
        "  pltz.append(len(i))\n",
        "plt.hist(pltz, color='k',bins=15)\n",
        "plt.xlabel('sequence length')\n",
        "plt.legend(title='train dataset')\n",
        "plt.show()"
      ]
    },
    {
      "cell_type": "markdown",
      "metadata": {
        "id": "JGWSs490t2nW"
      },
      "source": [
        "## Sweep greedy mutation\n",
        "\n",
        "We explored the potential of the PLM-based classifier to selectively increase or decrease the hemolytic activity of synthetic peptides. To achieve this, we employed a technique known as \"sweep greedy mutation.\" In this method, we randomly select a position within the peptide sequence and substitute it with all possible amino acids. Next, we evaluate the predicted hemolytic activity for each variant using our predictor and select the sequence with the highest and lowest values for the next iteration. This process is then repeated for the subsequent positions in the sequence.\n"
      ]
    },
    {
      "cell_type": "code",
      "execution_count": null,
      "metadata": {
        "id": "fAoenKZfjB7y"
      },
      "outputs": [],
      "source": [
        "\n",
        "import random\n",
        "from collections import defaultdict\n",
        "\n",
        "sequence = 'DEDEDEDEDEDEDEDEEDE' \n",
        "aminos = \"ACDEFGHIKLMNPQRSTVWY\"\n",
        "\n",
        "mutated_dictionary = defaultdict(list)\n",
        "\n",
        "\n",
        "start_pos = random.randint(0, len(sequence)-1)\n",
        "\n",
        "pool = [sequence]\n",
        "\n",
        "current_pos = start_pos \n",
        "\n",
        "for i in range(len(sequence)):\n",
        "    temp_pool = []\n",
        "    for seq in pool:\n",
        "        temp = list(seq)\n",
        "        for j in range(len(aminos)):\n",
        "            temp[current_pos] = aminos[j]\n",
        "            mutant = \"\".join(temp)\n",
        "            temp_pool.append(mutant)\n",
        "    X = input_encoder.encode_X(temp_pool, seq_len)\n",
        "    local_representations, global_representations_test = model.predict(X, batch_size = batch_size)\n",
        "    predi = model_D.predict(local_representations)\n",
        "    max_index = predi.argmax()\n",
        "    min_index = predi.argmin()\n",
        "    max_sequence = temp_pool[max_index]\n",
        "    min_sequence = temp_pool[min_index]\n",
        "   \n",
        "    mutated_dictionary[i].append(max_sequence)\n",
        "    mutated_dictionary[i].append(min_sequence)\n",
        "    \n",
        "    pool = [max_sequence, min_sequence]\n",
        "    current_pos = (current_pos + 1) % len(sequence)"
      ]
    },
    {
      "cell_type": "markdown",
      "metadata": {
        "id": "ZapRQry1vMe8"
      },
      "source": [
        "# Greedy random mutation\n",
        "\n",
        "After refining the algorithm we got to the last version of greedy point mutation (Figure 20). In this version the algorithm runs for a defined number of times. For each iteration a random position in the sequence is selected then after applying all possible mutations at that position, The mutated sequences are used as input to the ProteinBERT-classifier model, then those variants with the highest value and the one with lowest are picked for the next iteration. By doing so we systematically go optimize the sequence toward both direction of increasing and decreasing  HL. \n"
      ]
    },
    {
      "cell_type": "code",
      "execution_count": null,
      "metadata": {
        "colab": {
          "base_uri": "https://localhost:8080/"
        },
        "id": "oyuw_-AQ0L4i",
        "outputId": "fa1dcd66-d77a-44c9-d516-30886e3fc350"
      },
      "outputs": [
        {
          "name": "stdout",
          "output_type": "stream",
          "text": [
            "1/1 [==============================] - 0s 86ms/step\n",
            "1/1 [==============================] - 0s 23ms/step\n",
            "['KMLKKAKKFGKAFVKIL', 'KYLKKAKKFGKAFVKIL']\n",
            "2/2 [==============================] - 0s 59ms/step\n",
            "2/2 [==============================] - 0s 6ms/step\n",
            "['KMLKKAKKFIKAFVKIL', 'KYLKKAKKFDKAFVKIL']\n",
            "2/2 [==============================] - 0s 17ms/step\n",
            "2/2 [==============================] - 0s 6ms/step\n",
            "['KMLKKIKKFIKAFVKIL', 'KYLKKPKKFDKAFVKIL']\n",
            "2/2 [==============================] - 0s 15ms/step\n",
            "2/2 [==============================] - 0s 6ms/step\n",
            "['KMLKKIKKFIKAFVKFL', 'KYLKKPKKFDKAFVKPL']\n",
            "2/2 [==============================] - 0s 16ms/step\n",
            "2/2 [==============================] - 0s 6ms/step\n",
            "['KMWKKIKKFIKAFVKFL', 'KYKKKPKKFDKAFVKPL']\n",
            "2/2 [==============================] - 0s 15ms/step\n",
            "2/2 [==============================] - 0s 8ms/step\n",
            "['KMWKKIKKFIKAFVKFW', 'KYKKKPKKFDKAFVKPL']\n",
            "2/2 [==============================] - 0s 16ms/step\n",
            "2/2 [==============================] - 0s 6ms/step\n",
            "['KMWKKIKKFIKAFVKFW', 'KYKKKPKKFDKAFVKPL']\n",
            "2/2 [==============================] - 0s 17ms/step\n",
            "2/2 [==============================] - 0s 8ms/step\n",
            "['KMWKKIFKFIKAFVKFW', 'KYKKKPPKFDKAFVKPL']\n",
            "2/2 [==============================] - 0s 47ms/step\n",
            "2/2 [==============================] - 0s 5ms/step\n",
            "['KMWKKIFKLIKAFVKFW', 'KYKKKPPKFDKAFVKPL']\n",
            "2/2 [==============================] - 0s 16ms/step\n",
            "2/2 [==============================] - 0s 6ms/step\n",
            "['KWWKKIFKLIKAFVKFW', 'KYKKKPPKFDKAFVKPL']\n",
            "2/2 [==============================] - 0s 17ms/step\n",
            "2/2 [==============================] - 0s 6ms/step\n",
            "['KWWKKIFKLIKAFVMFW', 'KYKKKPPKFDKAFVRPL']\n",
            "2/2 [==============================] - 0s 16ms/step\n",
            "2/2 [==============================] - 0s 5ms/step\n",
            "['WWWKKIFKLIKAFVMFW', 'HYKKKPPKFDKAFVRPL']\n",
            "2/2 [==============================] - 0s 17ms/step\n",
            "2/2 [==============================] - 0s 6ms/step\n",
            "['WWWKKIFKLIKAFVMFW', 'HYKKKPPKFDKAFVRPL']\n",
            "2/2 [==============================] - 0s 16ms/step\n",
            "2/2 [==============================] - 0s 6ms/step\n",
            "['WWWKKIFKLIKAFVMFW', 'HYKKKPPKFSKAFVRPL']\n",
            "2/2 [==============================] - 0s 16ms/step\n",
            "2/2 [==============================] - 0s 6ms/step\n",
            "['WWWKVIFKLIKAFVMFW', 'HYKKHPPKFSKAFVRPL']\n",
            "2/2 [==============================] - 0s 17ms/step\n",
            "2/2 [==============================] - 0s 6ms/step\n",
            "['WWWEVIFKLIKAFVMFW', 'HYKAHPPKFSKAFVRPL']\n",
            "2/2 [==============================] - 0s 18ms/step\n",
            "2/2 [==============================] - 0s 6ms/step\n",
            "['WWWEVIFKLIKAFVMFW', 'RYKAHPPKFSKAFVRPL']\n",
            "2/2 [==============================] - 0s 17ms/step\n",
            "2/2 [==============================] - 0s 7ms/step\n",
            "['WWWEVIFKLIKAFVMFW', 'RYKAHPPKFSKAFVRPL']\n",
            "2/2 [==============================] - 0s 18ms/step\n",
            "2/2 [==============================] - 0s 6ms/step\n",
            "['WWWEVIFKLIKAVVMFW', 'RYKAHPPKFSKADVRPL']\n",
            "2/2 [==============================] - 0s 16ms/step\n",
            "2/2 [==============================] - 0s 6ms/step\n",
            "['WWWEVIFKLIKAVVMFW', 'RYKAHPPKFSKADVRPL']\n",
            "2/2 [==============================] - 0s 17ms/step\n",
            "2/2 [==============================] - 0s 6ms/step\n",
            "['WWWEVIFKLIKAVVMWW', 'RYKAHPPKFSKADVRHL']\n",
            "2/2 [==============================] - 0s 18ms/step\n",
            "2/2 [==============================] - 0s 6ms/step\n",
            "['WWWEVIFKLIKAVVMWW', 'RYKAHPPAFSKADVRHL']\n",
            "2/2 [==============================] - 0s 17ms/step\n",
            "2/2 [==============================] - 0s 6ms/step\n",
            "['WWWEVIFKLIKAVVMWW', 'RYKAHPPAFSKADVRHL']\n",
            "2/2 [==============================] - 0s 18ms/step\n",
            "2/2 [==============================] - 0s 5ms/step\n",
            "['WWWEVIFKLIKFVVMWW', 'RYKAHPPAFSKSDVRHL']\n",
            "2/2 [==============================] - 0s 22ms/step\n",
            "2/2 [==============================] - 0s 7ms/step\n",
            "['WWWEVIFKLIKFVVMWW', 'RYKAHPPAFSKSDVRHL']\n",
            "2/2 [==============================] - 0s 17ms/step\n",
            "2/2 [==============================] - 0s 4ms/step\n",
            "['WWWEVIFKLIKFVVMWW', 'LYKAHPPAFSKSDVRHL']\n",
            "2/2 [==============================] - 0s 17ms/step\n",
            "2/2 [==============================] - 0s 6ms/step\n",
            "['WWWEVIFKLIKFVVMWW', 'LYKAHPPAFSKSDVRHL']\n",
            "2/2 [==============================] - 0s 17ms/step\n",
            "2/2 [==============================] - 0s 10ms/step\n",
            "['WWWEVIFKLIKFVVMWW', 'LYKRHPPAFSKSDVRHL']\n",
            "2/2 [==============================] - 0s 27ms/step\n",
            "2/2 [==============================] - 0s 10ms/step\n",
            "['WWWEVIFKLIKFVVMWW', 'LYKRHPPAFSKSDLRHL']\n",
            "2/2 [==============================] - 0s 23ms/step\n",
            "2/2 [==============================] - 0s 8ms/step\n",
            "['WWWEVIFKLIKFVVMWW', 'LYKRHPPAFSKSDLRHL']\n"
          ]
        }
      ],
      "source": [
        "#greedy random mutation for defined number of steps\n",
        "import random\n",
        "from collections import defaultdict\n",
        "sequence = 'KFLKKAKKFGKAFVKIL' \n",
        "aminos = \"ACDEFGHIKLMNPQRSTVWY\"\n",
        "\n",
        "mutated_dictionary = defaultdict(list)\n",
        "\n",
        "# Start with the original sequence\n",
        "#in the next iteration there would be two sequences inside the pool variable\n",
        "pool = [sequence]\n",
        "\n",
        "for i in range(30):\n",
        "    temp_pool = []\n",
        "    current_pos = random.randint(0,len(sequence)-1)\n",
        "    for seq in pool:\n",
        "        temp = list(seq)\n",
        "        for j in range(len(aminos)):\n",
        "            temp[current_pos] = aminos[j]\n",
        "            mutant = \"\".join(temp)\n",
        "            temp_pool.append(mutant)\n",
        "    X = input_encoder.encode_X(temp_pool, seq_len)\n",
        "    local_representations, global_representations_test = model.predict(X, batch_size = batch_size)\n",
        "    predi = model_D.predict(local_representations)\n",
        "    max_index = predi.argmax()\n",
        "    min_index = predi.argmin()\n",
        "    max_sequence = temp_pool[max_index]\n",
        "    min_sequence = temp_pool[min_index]\n",
        "    \n",
        "    mutated_dictionary[i].append(max_sequence)\n",
        "    mutated_dictionary[i].append(min_sequence)\n",
        "    \n",
        "    pool = [max_sequence, min_sequence]\n",
        "    print(pool)\n"
      ]
    },
    {
      "cell_type": "markdown",
      "metadata": {
        "id": "6bRCxG75vaEW"
      },
      "source": [
        "Using the code below one can plot chaneges in value at each step with output(mutated_dictionary) of each of the previous algorithms"
      ]
    },
    {
      "cell_type": "code",
      "execution_count": null,
      "metadata": {
        "colab": {
          "base_uri": "https://localhost:8080/",
          "height": 348
        },
        "id": "Gxbj_08Wq5QB",
        "outputId": "3fd3631e-bf2f-4801-b143-3e8242f092c5"
      },
      "outputs": [
        {
          "name": "stdout",
          "output_type": "stream",
          "text": [
            "1/1 [==============================] - 0s 60ms/step\n",
            "1/1 [==============================] - 0s 94ms/step\n",
            "1/1 [==============================] - 0s 91ms/step\n",
            "1/1 [==============================] - 0s 90ms/step\n"
          ]
        },
        {
          "data": {
            "image/png": "[encoded data removed]",
            "text/plain": [
              "<Figure size 432x288 with 1 Axes>"
            ]
          },
          "metadata": {
            "needs_background": "light"
          },
          "output_type": "display_data"
        }
      ],
      "source": [
        "#plot changes in prediction value at each step\n",
        "high_values = [v[0] for v in mutated_dictionary.values()]\n",
        "low_values =  [v[1] for v in mutated_dictionary.values()]\n",
        "\n",
        "\n",
        "X = input_encoder.encode_X(high_values, seq_len)\n",
        "local_representations, global_representations_test = model.predict(X, batch_size = batch_size)\n",
        "predix = model_D.predict(local_representations)\n",
        "\n",
        "\n",
        "X = input_encoder.encode_X(low_values, seq_len)\n",
        "local_representations, global_representations_test = model.predict(X, batch_size = batch_size)\n",
        "predix_min = model_D.predict(local_representations)\n",
        "\n",
        "plt.scatter(range(30),predix ,label='Increasing' ,c='r')\n",
        "plt.scatter(range(30), predix_min,label='Decreasing', c='b')\n",
        "plt.xlabel('Mutation Step')\n",
        "plt.ylabel('Predicted Hemolytic Activity')\n",
        "plt.legend(title='org seq:KFLKKAKKFGKAFVKIL\\n predicted activity: 0.33')\n",
        "plt.show()"
      ]
    },
    {
      "cell_type": "code",
      "execution_count": null,
      "metadata": {
        "id": "TPoshmgyX1TH"
      },
      "outputs": [],
      "source": [
        "#save sequence variants as text file line by line for sequence alignment.\n",
        "\n",
        "with open(\"max_30.txt\", \"w\") as f:\n",
        "  for i in mutated_dictionary.values():\n",
        "    f.write(i[0])\n",
        "    f.write(\"\\n\")\n",
        "\n",
        "\n",
        "with open(\"min_30.txt\", \"w\") as f:\n",
        "  for i in mutated_dictionary.values():\n",
        "    f.write(i[1])\n",
        "    f.write(\"\\n\")    "
      ]
    },
    {
      "cell_type": "markdown",
      "metadata": {
        "id": "6W7o4bqjtmGP"
      },
      "source": [
        "## **Systematic single-point mutations**\n",
        "Our initial approach involved conducting tests on individual amino acid substitutions, starting from a selected sequence. For each position in the sequence, we performed a systematic mutation towards all 20 standard amino acids. Each amino acid was in turn mutated to one of the 20 standard amino acids. We utilized the predictor, which was developed as outlined in the ProteinBERT-classifier section, to predict the hemolytic activity of the modified sequence. By utilizing this method, we can examine the impact of various single-point mutations at different locations.\n"
      ]
    },
    {
      "cell_type": "code",
      "execution_count": null,
      "metadata": {
        "colab": {
          "base_uri": "https://localhost:8080/"
        },
        "id": "d0yETrM8lR-D",
        "outputId": "8043c63e-b386-4a8e-c580-551c95cc3925"
      },
      "outputs": [
        {
          "name": "stdout",
          "output_type": "stream",
          "text": [
            "11/11 [==============================] - 0s 21ms/step\n",
            "11/11 [==============================] - 0s 7ms/step\n"
          ]
        }
      ],
      "source": [
        "#systematic single point mutations\n",
        "sequence='KFLKKAKKFGKAFVKIL' \n",
        "\n",
        "aminos=['A','G','I','L','P','V','F','W','Y','D','E','R','H','K','S','T','C','M','N','Q']  \n",
        "\n",
        "\n",
        "\n",
        "mutated_1=[]\n",
        "\n",
        "temp=list(sequence)\n",
        "for i in range(len(temp)):\n",
        "  for j in aminos:\n",
        "      temp=list(sequence)\n",
        "      temp[i]=j\n",
        "      mutated_1.append(\"\".join(temp))\n",
        "X= input_encoder.encode_X(mutated_1, seq_len)\n",
        "local_representations, global_representations_test= model.predict(X, batch_size = batch_size)\n",
        "\n",
        "p=model_D.predict(local_representations)\n"
      ]
    },
    {
      "cell_type": "code",
      "execution_count": null,
      "metadata": {
        "colab": {
          "base_uri": "https://localhost:8080/"
        },
        "id": "eNw98v0qGZNv",
        "outputId": "07cef162-0628-41cf-d5dc-7882ce2fc50b"
      },
      "outputs": [
        {
          "name": "stdout",
          "output_type": "stream",
          "text": [
            "1/1 [==============================] - 0s 102ms/step\n",
            "1/1 [==============================] - 0s 29ms/step\n",
            "[[0.3346493]]\n"
          ]
        }
      ],
      "source": [
        "#prediction on picked original sequence\n",
        "picked=[sequence]\n",
        "\n",
        "X= input_encoder.encode_X(picked, seq_len)\n",
        "local_representations, global_representations_test= model.predict(X, batch_size = batch_size)\n",
        "\n",
        "pred=model_D.predict(local_representations)\n",
        "print(pred)\n",
        "wt_pred=pred[0][0]"
      ]
    },
    {
      "cell_type": "code",
      "execution_count": null,
      "metadata": {
        "colab": {
          "base_uri": "https://localhost:8080/",
          "height": 658
        },
        "id": "K2SNSv3zotxo",
        "outputId": "0dadf19e-dbb2-431e-bd40-cc5ea9b0f8cb"
      },
      "outputs": [
        {
          "name": "stderr",
          "output_type": "stream",
          "text": [
            "<ipython-input-26-16664b728470>:8: UserWarning: FixedFormatter should only be used together with FixedLocator\n",
            "  cax.axes.set_xticklabels(aminos)\n",
            "<ipython-input-26-16664b728470>:11: UserWarning: FixedFormatter should only be used together with FixedLocator\n",
            "  cax.axes.set_yticklabels(list(sequence))\n"
          ]
        },
        {
          "data": {
            "image/png": "[encoded data removed]",
            "text/plain": [
              "<Figure size 1080x720 with 2 Axes>"
            ]
          },
          "metadata": {
            "needs_background": "light"
          },
          "output_type": "display_data"
        }
      ],
      "source": [
        "#plot the result on matshow\n",
        "p=np.squeeze(p)\n",
        "m=p.reshape((len(sequence),20))\n",
        "\n",
        "\n",
        "plt.figure(figsize=(15,10))\n",
        "cax=plt.matshow(m-wt_pred, vmin=-0.5, vmax=0.5,cmap='bwr',fignum=1)\n",
        "cax.axes.set_xticklabels(aminos)\n",
        "cax.axes.set_xticks(np.arange(len(aminos)))\n",
        "\n",
        "cax.axes.set_yticklabels(list(sequence))\n",
        "cax.axes.set_yticks(np.arange(len(sequence)))\n",
        "\n",
        "\n",
        "plt.xlabel(\"mutation\")\n",
        "plt.ylabel(\"amino acid position\")\n",
        "plt.colorbar(label='change in predicted hemolyticness')\n",
        "plt.show() \n"
      ]
    },
    {
      "cell_type": "markdown",
      "metadata": {
        "id": "T2f45By9v2gi"
      },
      "source": [
        "## Amino acid driving HL \n",
        "\n",
        "Using the method described in the amino acid driven HL section, we plot the frequency of each amino acid on both sides of the substitution which caused the most significant change in both enhancing and reducing predicted HL value, in addition we also plot the position where the mutations happened.\n"
      ]
    },
    {
      "cell_type": "code",
      "execution_count": null,
      "metadata": {
        "id": "oxHLZO3uLSHq"
      },
      "outputs": [],
      "source": [
        "#sequences with predicted value below 40 percent are picked.\n",
        "\n",
        "aminos=['A','C','D','E','F','G','H','I','K','L','M','N','P','Q','R','S','T','V','W','Y'] \n",
        "\n",
        "\n",
        "prediction=prediction.squeeze()\n",
        "prediction_list=(list(prediction))\n",
        "\n",
        "low_sequences=[]\n",
        "for i in prediction:\n",
        "  if  i <0.4:\n",
        "\n",
        "    index=prediction_list.index(i)\n",
        "    low_sequences.append(seqs_test[index])\n",
        "\n",
        "highest_value_mutated=[]\n",
        "\n",
        "\n",
        "for k in low_sequences:\n",
        "  mutated=[]\n",
        "  position=0\n",
        "  amino_acid=0\n",
        "  string=str(k)\n",
        "  temp=list(string)\n",
        "\n",
        "  for i in range(len(temp)):\n",
        "    for j in range(len(aminos)+1):\n",
        "\n",
        "      if amino_acid <= len(aminos)-1:\n",
        "        temp[position]=aminos[amino_acid]\n",
        "        stri = \"\".join(temp)  \n",
        "        mutated.append(stri)\n",
        "        amino_acid+=1\n",
        "      else:\n",
        "        position+=1\n",
        "        amino_acid=0\n",
        "        temp=list(string)\n",
        "        pass\n",
        "\n",
        "  X= input_encoder.encode_X(mutated, seq_len)\n",
        "  local_representations, global_representations_test= model.predict(X, batch_size = batch_size)\n",
        "  pre=model_D.predict(local_representations)\n",
        "\n",
        "  pre=pre.squeeze()\n",
        "  p_list=(list(pre))\n",
        "  highest_value_mutated.append(mutated[p_list.index(max(p_list))])\n",
        "\n",
        "\n",
        "high_value_comparison=dict(zip(low_sequences, highest_value_mutated))"
      ]
    },
    {
      "cell_type": "code",
      "execution_count": null,
      "metadata": {
        "colab": {
          "base_uri": "https://localhost:8080/",
          "height": 296
        },
        "id": "FnXXDGiZLSCd",
        "outputId": "71dbf2ee-ca8b-4974-bd7b-0b5c2546c153"
      },
      "outputs": [
        {
          "name": "stderr",
          "output_type": "stream",
          "text": [
            "WARNING:matplotlib.legend:No artists with labels found to put in legend.  Note that artists whose label start with an underscore are ignored when legend() is called with no argument.\n"
          ]
        },
        {
          "data": {
            "image/png": "[encoded data removed]",
            "text/plain": [
              "<Figure size 432x288 with 1 Axes>"
            ]
          },
          "metadata": {
            "needs_background": "light"
          },
          "output_type": "display_data"
        }
      ],
      "source": [
        "#that amino acid which caused the highest increase\n",
        "\n",
        "increasing_AA=[]\n",
        "positionz=[]\n",
        "for k ,v in high_value_comparison.items():\n",
        "  for i in range(len(k)):\n",
        "    if k[i] != v[i]:\n",
        "      increasing_AA.append(v[i])\n",
        "      positionz.append(i)\n",
        "count_per_aminoacid_increase=[]\n",
        "for i in aminos:\n",
        "  count_per_aminoacid_increase.append(increasing_AA.count(i))\n",
        "\n",
        "\n",
        "plt.bar(aminos,count_per_aminoacid_increase, alpha=0.5, color='g')  \n",
        "plt.xlabel('amino acid')\n",
        "plt.ylabel('count')\n",
        "plt.legend(title='AA which caused significant increase')\n",
        "plt.show()"
      ]
    },
    {
      "cell_type": "code",
      "execution_count": null,
      "metadata": {
        "colab": {
          "base_uri": "https://localhost:8080/",
          "height": 296
        },
        "id": "XLpqGpWphIcp",
        "outputId": "d175a421-cbab-435a-9f30-91f17d0cdc61"
      },
      "outputs": [
        {
          "name": "stderr",
          "output_type": "stream",
          "text": [
            "WARNING:matplotlib.legend:No artists with labels found to put in legend.  Note that artists whose label start with an underscore are ignored when legend() is called with no argument.\n"
          ]
        },
        {
          "data": {
            "image/png": "[encoded data removed]",
            "text/plain": [
              "<Figure size 432x288 with 1 Axes>"
            ]
          },
          "metadata": {
            "needs_background": "light"
          },
          "output_type": "display_data"
        }
      ],
      "source": [
        "plt.hist(positionz,bins=20,color='c')\n",
        "plt.xlabel('position')\n",
        "plt.ylabel('count')\n",
        "plt.legend(title='position which caused significant increase')\n",
        "plt.show()"
      ]
    },
    {
      "cell_type": "code",
      "execution_count": null,
      "metadata": {
        "colab": {
          "base_uri": "https://localhost:8080/",
          "height": 296
        },
        "id": "dZC5hiAuub6q",
        "outputId": "8c0e3470-7531-47de-f1bb-e58a5a1553a3"
      },
      "outputs": [
        {
          "name": "stderr",
          "output_type": "stream",
          "text": [
            "WARNING:matplotlib.legend:No artists with labels found to put in legend.  Note that artists whose label start with an underscore are ignored when legend() is called with no argument.\n"
          ]
        },
        {
          "data": {
            "image/png": "[encoded data removed]",
            "text/plain": [
              "<Figure size 432x288 with 1 Axes>"
            ]
          },
          "metadata": {
            "needs_background": "light"
          },
          "output_type": "display_data"
        }
      ],
      "source": [
        "#that amino acid which its substitution caused the highest increase\n",
        "increasing_AA=[]\n",
        "for k ,v in high_value_comparison.items():\n",
        "  for i in range(len(k)):\n",
        "    if k[i] != v[i]:\n",
        "      increasing_AA.append(k[i])\n",
        "count_per_aminoacid_increase=[]\n",
        "for i in aminos:\n",
        "  count_per_aminoacid_increase.append(increasing_AA.count(i))\n",
        "\n",
        "\n",
        "plt.bar(aminos,count_per_aminoacid_increase, alpha=0.5, color='r')  \n",
        "plt.xlabel('amino acid')\n",
        "plt.ylabel('count')\n",
        "plt.legend(title='substitution of this AA caused significant increase')\n",
        "plt.show()"
      ]
    },
    {
      "cell_type": "code",
      "execution_count": null,
      "metadata": {
        "colab": {
          "base_uri": "https://localhost:8080/"
        },
        "id": "cQod6b34LR2-",
        "outputId": "c560e059-1fdd-4550-9731-4c416095c5e5"
      },
      "outputs": [
        {
          "name": "stdout",
          "output_type": "stream",
          "text": [
            "9/9 [==============================] - 0s 23ms/step\n",
            "9/9 [==============================] - 0s 5ms/step\n",
            "10/10 [==============================] - 0s 23ms/step\n",
            "10/10 [==============================] - 0s 6ms/step\n",
            "9/9 [==============================] - 0s 24ms/step\n",
            "9/9 [==============================] - 0s 5ms/step\n",
            "19/19 [==============================] - 0s 22ms/step\n",
            "19/19 [==============================] - 0s 4ms/step\n",
            "8/8 [==============================] - 0s 15ms/step\n",
            "8/8 [==============================] - 0s 4ms/step\n",
            "19/19 [==============================] - 0s 16ms/step\n",
            "19/19 [==============================] - 0s 4ms/step\n",
            "9/9 [==============================] - 0s 16ms/step\n",
            "9/9 [==============================] - 0s 4ms/step\n",
            "9/9 [==============================] - 0s 15ms/step\n",
            "9/9 [==============================] - 0s 4ms/step\n",
            "14/14 [==============================] - 0s 16ms/step\n",
            "14/14 [==============================] - 0s 5ms/step\n",
            "14/14 [==============================] - 0s 16ms/step\n",
            "14/14 [==============================] - 0s 4ms/step\n",
            "7/7 [==============================] - 0s 17ms/step\n",
            "7/7 [==============================] - 0s 4ms/step\n",
            "9/9 [==============================] - 0s 17ms/step\n",
            "9/9 [==============================] - 0s 4ms/step\n",
            "9/9 [==============================] - 0s 17ms/step\n",
            "9/9 [==============================] - 0s 4ms/step\n",
            "14/14 [==============================] - 0s 17ms/step\n",
            "14/14 [==============================] - 0s 4ms/step\n",
            "14/14 [==============================] - 0s 17ms/step\n",
            "14/14 [==============================] - 0s 4ms/step\n",
            "5/5 [==============================] - 0s 17ms/step\n",
            "5/5 [==============================] - 0s 5ms/step\n",
            "14/14 [==============================] - 0s 16ms/step\n",
            "14/14 [==============================] - 0s 4ms/step\n",
            "9/9 [==============================] - 0s 15ms/step\n",
            "9/9 [==============================] - 0s 5ms/step\n",
            "21/21 [==============================] - 0s 22ms/step\n",
            "21/21 [==============================] - 0s 6ms/step\n",
            "9/9 [==============================] - 0s 22ms/step\n",
            "9/9 [==============================] - 0s 5ms/step\n",
            "15/15 [==============================] - 0s 23ms/step\n",
            "15/15 [==============================] - 0s 5ms/step\n",
            "17/17 [==============================] - 0s 16ms/step\n",
            "17/17 [==============================] - 0s 4ms/step\n",
            "12/12 [==============================] - 0s 14ms/step\n",
            "12/12 [==============================] - 0s 4ms/step\n",
            "15/15 [==============================] - 0s 18ms/step\n",
            "15/15 [==============================] - 0s 5ms/step\n",
            "19/19 [==============================] - 0s 16ms/step\n",
            "19/19 [==============================] - 0s 4ms/step\n",
            "8/8 [==============================] - 0s 15ms/step\n",
            "8/8 [==============================] - 0s 4ms/step\n",
            "14/14 [==============================] - 0s 16ms/step\n",
            "14/14 [==============================] - 0s 4ms/step\n",
            "15/15 [==============================] - 0s 15ms/step\n",
            "15/15 [==============================] - 0s 4ms/step\n",
            "11/11 [==============================] - 0s 15ms/step\n",
            "11/11 [==============================] - 0s 4ms/step\n",
            "9/9 [==============================] - 0s 16ms/step\n",
            "9/9 [==============================] - 0s 4ms/step\n",
            "15/15 [==============================] - 0s 16ms/step\n",
            "15/15 [==============================] - 0s 4ms/step\n",
            "14/14 [==============================] - 0s 15ms/step\n",
            "14/14 [==============================] - 0s 4ms/step\n",
            "14/14 [==============================] - 0s 14ms/step\n",
            "14/14 [==============================] - 0s 4ms/step\n",
            "10/10 [==============================] - 0s 15ms/step\n",
            "10/10 [==============================] - 0s 7ms/step\n",
            "19/19 [==============================] - 0s 22ms/step\n",
            "19/19 [==============================] - 0s 5ms/step\n",
            "10/10 [==============================] - 0s 25ms/step\n",
            "10/10 [==============================] - 0s 4ms/step\n",
            "22/22 [==============================] - 0s 17ms/step\n",
            "22/22 [==============================] - 0s 4ms/step\n",
            "7/7 [==============================] - 0s 15ms/step\n",
            "7/7 [==============================] - 0s 6ms/step\n",
            "15/15 [==============================] - 0s 18ms/step\n",
            "15/15 [==============================] - 0s 5ms/step\n",
            "10/10 [==============================] - 0s 15ms/step\n",
            "10/10 [==============================] - 0s 4ms/step\n",
            "19/19 [==============================] - 0s 16ms/step\n",
            "19/19 [==============================] - 0s 4ms/step\n",
            "15/15 [==============================] - 0s 14ms/step\n",
            "15/15 [==============================] - 0s 4ms/step\n",
            "14/14 [==============================] - 0s 15ms/step\n",
            "14/14 [==============================] - 0s 4ms/step\n",
            "11/11 [==============================] - 0s 15ms/step\n",
            "11/11 [==============================] - 0s 5ms/step\n",
            "14/14 [==============================] - 0s 15ms/step\n",
            "14/14 [==============================] - 0s 5ms/step\n",
            "17/17 [==============================] - 0s 14ms/step\n",
            "17/17 [==============================] - 0s 5ms/step\n",
            "14/14 [==============================] - 0s 15ms/step\n",
            "14/14 [==============================] - 0s 5ms/step\n",
            "10/10 [==============================] - 0s 22ms/step\n",
            "10/10 [==============================] - 0s 6ms/step\n",
            "13/13 [==============================] - 0s 22ms/step\n",
            "13/13 [==============================] - 0s 5ms/step\n",
            "5/5 [==============================] - 0s 22ms/step\n",
            "5/5 [==============================] - 0s 6ms/step\n",
            "9/9 [==============================] - 0s 22ms/step\n",
            "9/9 [==============================] - 0s 5ms/step\n",
            "8/8 [==============================] - 0s 16ms/step\n",
            "8/8 [==============================] - 0s 5ms/step\n",
            "10/10 [==============================] - 0s 17ms/step\n",
            "10/10 [==============================] - 0s 4ms/step\n",
            "19/19 [==============================] - 0s 17ms/step\n",
            "19/19 [==============================] - 0s 4ms/step\n",
            "15/15 [==============================] - 0s 15ms/step\n",
            "15/15 [==============================] - 0s 5ms/step\n",
            "10/10 [==============================] - 0s 19ms/step\n",
            "10/10 [==============================] - 0s 4ms/step\n",
            "9/9 [==============================] - 0s 15ms/step\n",
            "9/9 [==============================] - 0s 4ms/step\n",
            "12/12 [==============================] - 0s 15ms/step\n",
            "12/12 [==============================] - 0s 4ms/step\n",
            "10/10 [==============================] - 0s 15ms/step\n",
            "10/10 [==============================] - 0s 4ms/step\n",
            "15/15 [==============================] - 0s 15ms/step\n",
            "15/15 [==============================] - 0s 4ms/step\n",
            "14/14 [==============================] - 0s 15ms/step\n",
            "14/14 [==============================] - 0s 4ms/step\n",
            "9/9 [==============================] - 0s 17ms/step\n",
            "9/9 [==============================] - 0s 4ms/step\n",
            "12/12 [==============================] - 0s 17ms/step\n",
            "12/12 [==============================] - 0s 4ms/step\n",
            "16/16 [==============================] - 0s 14ms/step\n",
            "16/16 [==============================] - 0s 4ms/step\n",
            "21/21 [==============================] - 0s 15ms/step\n",
            "21/21 [==============================] - 0s 6ms/step\n",
            "18/18 [==============================] - 0s 23ms/step\n",
            "18/18 [==============================] - 0s 7ms/step\n",
            "15/15 [==============================] - 0s 20ms/step\n",
            "15/15 [==============================] - 0s 6ms/step\n",
            "15/15 [==============================] - 0s 22ms/step\n",
            "15/15 [==============================] - 0s 5ms/step\n",
            "10/10 [==============================] - 0s 19ms/step\n",
            "10/10 [==============================] - 0s 4ms/step\n",
            "7/7 [==============================] - 0s 17ms/step\n",
            "7/7 [==============================] - 0s 5ms/step\n",
            "9/9 [==============================] - 0s 17ms/step\n",
            "9/9 [==============================] - 0s 4ms/step\n",
            "19/19 [==============================] - 0s 16ms/step\n",
            "19/19 [==============================] - 0s 4ms/step\n",
            "17/17 [==============================] - 0s 16ms/step\n",
            "17/17 [==============================] - 0s 5ms/step\n",
            "10/10 [==============================] - 0s 14ms/step\n",
            "10/10 [==============================] - 0s 4ms/step\n",
            "19/19 [==============================] - 0s 15ms/step\n",
            "19/19 [==============================] - 0s 5ms/step\n",
            "11/11 [==============================] - 0s 15ms/step\n",
            "11/11 [==============================] - 0s 4ms/step\n",
            "9/9 [==============================] - 0s 15ms/step\n",
            "9/9 [==============================] - 0s 4ms/step\n",
            "19/19 [==============================] - 0s 16ms/step\n",
            "19/19 [==============================] - 0s 4ms/step\n",
            "15/15 [==============================] - 0s 14ms/step\n",
            "15/15 [==============================] - 0s 4ms/step\n",
            "9/9 [==============================] - 0s 14ms/step\n",
            "9/9 [==============================] - 0s 4ms/step\n",
            "12/12 [==============================] - 0s 17ms/step\n",
            "12/12 [==============================] - 0s 5ms/step\n",
            "15/15 [==============================] - 0s 20ms/step\n",
            "15/15 [==============================] - 0s 7ms/step\n",
            "17/17 [==============================] - 0s 22ms/step\n",
            "17/17 [==============================] - 0s 6ms/step\n",
            "12/12 [==============================] - 0s 22ms/step\n",
            "12/12 [==============================] - 0s 6ms/step\n",
            "11/11 [==============================] - 0s 16ms/step\n",
            "11/11 [==============================] - 0s 4ms/step\n",
            "14/14 [==============================] - 0s 19ms/step\n",
            "14/14 [==============================] - 0s 4ms/step\n",
            "20/20 [==============================] - 0s 16ms/step\n",
            "20/20 [==============================] - 0s 5ms/step\n",
            "18/18 [==============================] - 0s 14ms/step\n",
            "18/18 [==============================] - 0s 4ms/step\n",
            "19/19 [==============================] - 0s 14ms/step\n",
            "19/19 [==============================] - 0s 4ms/step\n",
            "10/10 [==============================] - 0s 15ms/step\n",
            "10/10 [==============================] - 0s 5ms/step\n",
            "9/9 [==============================] - 0s 15ms/step\n",
            "9/9 [==============================] - 0s 4ms/step\n",
            "9/9 [==============================] - 0s 17ms/step\n",
            "9/9 [==============================] - 0s 4ms/step\n",
            "19/19 [==============================] - 0s 16ms/step\n",
            "19/19 [==============================] - 0s 4ms/step\n",
            "9/9 [==============================] - 0s 16ms/step\n",
            "9/9 [==============================] - 0s 4ms/step\n",
            "8/8 [==============================] - 0s 16ms/step\n",
            "8/8 [==============================] - 0s 4ms/step\n",
            "13/13 [==============================] - 0s 15ms/step\n",
            "13/13 [==============================] - 0s 4ms/step\n",
            "12/12 [==============================] - 0s 14ms/step\n",
            "12/12 [==============================] - 0s 4ms/step\n",
            "9/9 [==============================] - 0s 20ms/step\n",
            "9/9 [==============================] - 0s 7ms/step\n",
            "8/8 [==============================] - 0s 23ms/step\n",
            "8/8 [==============================] - 0s 7ms/step\n",
            "8/8 [==============================] - 0s 24ms/step\n",
            "8/8 [==============================] - 0s 5ms/step\n",
            "13/13 [==============================] - 0s 22ms/step\n",
            "13/13 [==============================] - 0s 6ms/step\n",
            "14/14 [==============================] - 0s 22ms/step\n",
            "14/14 [==============================] - 0s 6ms/step\n",
            "17/17 [==============================] - 0s 20ms/step\n",
            "17/17 [==============================] - 0s 4ms/step\n",
            "14/14 [==============================] - 0s 16ms/step\n",
            "14/14 [==============================] - 0s 4ms/step\n",
            "18/18 [==============================] - 0s 15ms/step\n",
            "18/18 [==============================] - 0s 4ms/step\n",
            "14/14 [==============================] - 0s 15ms/step\n",
            "14/14 [==============================] - 0s 4ms/step\n",
            "12/12 [==============================] - 0s 14ms/step\n",
            "12/12 [==============================] - 0s 4ms/step\n",
            "12/12 [==============================] - 0s 15ms/step\n",
            "12/12 [==============================] - 0s 4ms/step\n",
            "9/9 [==============================] - 0s 15ms/step\n",
            "9/9 [==============================] - 0s 4ms/step\n",
            "15/15 [==============================] - 0s 16ms/step\n",
            "15/15 [==============================] - 0s 5ms/step\n",
            "7/7 [==============================] - 0s 21ms/step\n",
            "7/7 [==============================] - 0s 4ms/step\n",
            "9/9 [==============================] - 0s 17ms/step\n",
            "9/9 [==============================] - 0s 5ms/step\n",
            "9/9 [==============================] - 0s 20ms/step\n",
            "9/9 [==============================] - 0s 4ms/step\n",
            "14/14 [==============================] - 0s 17ms/step\n",
            "14/14 [==============================] - 0s 4ms/step\n",
            "16/16 [==============================] - 0s 16ms/step\n",
            "16/16 [==============================] - 0s 4ms/step\n",
            "15/15 [==============================] - 0s 17ms/step\n",
            "15/15 [==============================] - 0s 6ms/step\n",
            "19/19 [==============================] - 0s 21ms/step\n",
            "19/19 [==============================] - 0s 7ms/step\n",
            "19/19 [==============================] - 0s 23ms/step\n",
            "19/19 [==============================] - 0s 4ms/step\n",
            "14/14 [==============================] - 0s 16ms/step\n",
            "14/14 [==============================] - 0s 4ms/step\n",
            "10/10 [==============================] - 0s 16ms/step\n",
            "10/10 [==============================] - 0s 4ms/step\n",
            "12/12 [==============================] - 0s 14ms/step\n",
            "12/12 [==============================] - 0s 4ms/step\n",
            "20/20 [==============================] - 0s 16ms/step\n",
            "20/20 [==============================] - 0s 5ms/step\n",
            "14/14 [==============================] - 0s 15ms/step\n",
            "14/14 [==============================] - 0s 4ms/step\n",
            "11/11 [==============================] - 0s 16ms/step\n",
            "11/11 [==============================] - 0s 4ms/step\n",
            "9/9 [==============================] - 0s 16ms/step\n",
            "9/9 [==============================] - 0s 4ms/step\n",
            "17/17 [==============================] - 0s 16ms/step\n",
            "17/17 [==============================] - 0s 4ms/step\n",
            "9/9 [==============================] - 0s 15ms/step\n",
            "9/9 [==============================] - 0s 4ms/step\n",
            "14/14 [==============================] - 0s 16ms/step\n",
            "14/14 [==============================] - 0s 5ms/step\n",
            "15/15 [==============================] - 0s 16ms/step\n",
            "15/15 [==============================] - 0s 5ms/step\n",
            "11/11 [==============================] - 0s 15ms/step\n",
            "11/11 [==============================] - 0s 4ms/step\n",
            "13/13 [==============================] - 0s 16ms/step\n",
            "13/13 [==============================] - 0s 6ms/step\n",
            "10/10 [==============================] - 0s 22ms/step\n",
            "10/10 [==============================] - 0s 6ms/step\n",
            "13/13 [==============================] - 0s 21ms/step\n",
            "13/13 [==============================] - 0s 6ms/step\n",
            "7/7 [==============================] - 0s 23ms/step\n",
            "7/7 [==============================] - 0s 6ms/step\n",
            "8/8 [==============================] - 0s 23ms/step\n",
            "8/8 [==============================] - 0s 6ms/step\n",
            "11/11 [==============================] - 0s 19ms/step\n",
            "11/11 [==============================] - 0s 4ms/step\n",
            "15/15 [==============================] - 0s 17ms/step\n",
            "15/15 [==============================] - 0s 4ms/step\n",
            "14/14 [==============================] - 0s 16ms/step\n",
            "14/14 [==============================] - 0s 5ms/step\n",
            "9/9 [==============================] - 0s 14ms/step\n",
            "9/9 [==============================] - 0s 4ms/step\n",
            "14/14 [==============================] - 0s 15ms/step\n",
            "14/14 [==============================] - 0s 4ms/step\n",
            "10/10 [==============================] - 0s 17ms/step\n",
            "10/10 [==============================] - 0s 4ms/step\n",
            "19/19 [==============================] - 0s 15ms/step\n",
            "19/19 [==============================] - 0s 5ms/step\n",
            "12/12 [==============================] - 0s 15ms/step\n",
            "12/12 [==============================] - 0s 4ms/step\n",
            "17/17 [==============================] - 0s 16ms/step\n",
            "17/17 [==============================] - 0s 5ms/step\n",
            "11/11 [==============================] - 0s 14ms/step\n",
            "11/11 [==============================] - 0s 4ms/step\n",
            "8/8 [==============================] - 0s 15ms/step\n",
            "8/8 [==============================] - 0s 4ms/step\n",
            "15/15 [==============================] - 0s 16ms/step\n",
            "15/15 [==============================] - 0s 5ms/step\n",
            "20/20 [==============================] - 0s 18ms/step\n",
            "20/20 [==============================] - 0s 4ms/step\n",
            "19/19 [==============================] - 0s 16ms/step\n",
            "19/19 [==============================] - 0s 6ms/step\n",
            "14/14 [==============================] - 0s 21ms/step\n",
            "14/14 [==============================] - 0s 6ms/step\n",
            "12/12 [==============================] - 0s 22ms/step\n",
            "12/12 [==============================] - 0s 7ms/step\n",
            "22/22 [==============================] - 1s 22ms/step\n",
            "22/22 [==============================] - 0s 5ms/step\n",
            "15/15 [==============================] - 0s 15ms/step\n",
            "15/15 [==============================] - 0s 5ms/step\n",
            "12/12 [==============================] - 0s 16ms/step\n",
            "12/12 [==============================] - 0s 4ms/step\n",
            "14/14 [==============================] - 0s 15ms/step\n",
            "14/14 [==============================] - 0s 5ms/step\n",
            "10/10 [==============================] - 0s 15ms/step\n",
            "10/10 [==============================] - 0s 4ms/step\n",
            "19/19 [==============================] - 0s 18ms/step\n",
            "19/19 [==============================] - 0s 4ms/step\n",
            "9/9 [==============================] - 0s 16ms/step\n",
            "9/9 [==============================] - 0s 4ms/step\n",
            "9/9 [==============================] - 0s 15ms/step\n",
            "9/9 [==============================] - 0s 4ms/step\n",
            "7/7 [==============================] - 0s 16ms/step\n",
            "7/7 [==============================] - 0s 5ms/step\n",
            "18/18 [==============================] - 0s 17ms/step\n",
            "18/18 [==============================] - 0s 4ms/step\n",
            "8/8 [==============================] - 0s 15ms/step\n",
            "8/8 [==============================] - 0s 4ms/step\n",
            "9/9 [==============================] - 0s 15ms/step\n",
            "9/9 [==============================] - 0s 4ms/step\n",
            "19/19 [==============================] - 0s 15ms/step\n",
            "19/19 [==============================] - 0s 4ms/step\n",
            "17/17 [==============================] - 0s 14ms/step\n",
            "17/17 [==============================] - 0s 4ms/step\n",
            "19/19 [==============================] - 0s 16ms/step\n",
            "19/19 [==============================] - 0s 7ms/step\n",
            "9/9 [==============================] - 0s 22ms/step\n",
            "9/9 [==============================] - 0s 5ms/step\n",
            "10/10 [==============================] - 0s 21ms/step\n",
            "10/10 [==============================] - 0s 7ms/step\n",
            "9/9 [==============================] - 0s 20ms/step\n",
            "9/9 [==============================] - 0s 5ms/step\n",
            "20/20 [==============================] - 0s 24ms/step\n",
            "20/20 [==============================] - 0s 5ms/step\n",
            "9/9 [==============================] - 0s 16ms/step\n",
            "9/9 [==============================] - 0s 4ms/step\n",
            "18/18 [==============================] - 0s 17ms/step\n",
            "18/18 [==============================] - 0s 4ms/step\n",
            "14/14 [==============================] - 0s 16ms/step\n",
            "14/14 [==============================] - 0s 4ms/step\n",
            "14/14 [==============================] - 0s 15ms/step\n",
            "14/14 [==============================] - 0s 4ms/step\n",
            "9/9 [==============================] - 0s 16ms/step\n",
            "9/9 [==============================] - 0s 4ms/step\n",
            "12/12 [==============================] - 0s 17ms/step\n",
            "12/12 [==============================] - 0s 4ms/step\n",
            "8/8 [==============================] - 0s 16ms/step\n",
            "8/8 [==============================] - 0s 4ms/step\n",
            "15/15 [==============================] - 0s 16ms/step\n",
            "15/15 [==============================] - 0s 5ms/step\n",
            "9/9 [==============================] - 0s 17ms/step\n",
            "9/9 [==============================] - 0s 4ms/step\n",
            "19/19 [==============================] - 0s 15ms/step\n",
            "19/19 [==============================] - 0s 4ms/step\n",
            "14/14 [==============================] - 0s 15ms/step\n",
            "14/14 [==============================] - 0s 5ms/step\n",
            "9/9 [==============================] - 0s 16ms/step\n",
            "9/9 [==============================] - 0s 6ms/step\n",
            "12/12 [==============================] - 0s 21ms/step\n",
            "12/12 [==============================] - 0s 7ms/step\n"
          ]
        }
      ],
      "source": [
        "#sequences with predicted value above 60 percent are picked.\n",
        "\n",
        "prediction=prediction.squeeze()\n",
        "prediction_list=(list(prediction))\n",
        "\n",
        "high_sequences=[]\n",
        "for i in prediction:\n",
        "  if 0.6< i :\n",
        "\n",
        "    index=prediction_list.index(i)\n",
        "    high_sequences.append(seqs_test[index])\n",
        "\n",
        "lowest_value_mutated=[]\n",
        "\n",
        "for k in high_sequences:\n",
        "  mutated=[]\n",
        "  position=0\n",
        "  amino_acid=0\n",
        "  string=str(k)\n",
        "  temp=list(string)\n",
        "\n",
        "  for i in range(len(temp)):\n",
        "    for j in range(len(aminos)+1):\n",
        "\n",
        "      if amino_acid <= len(aminos)-1:\n",
        "        temp[position]=aminos[amino_acid]\n",
        "        stri = \"\".join(temp)  \n",
        "        mutated.append(stri)\n",
        "        amino_acid+=1\n",
        "      else:\n",
        "        position+=1\n",
        "        amino_acid=0\n",
        "        temp=list(string)\n",
        "        pass\n",
        "\n",
        "  #after each sequence get those mutated variants with highest and lowest value\n",
        "  X= input_encoder.encode_X(mutated, seq_len)\n",
        "  local_representations, global_representations_test= model.predict(X, batch_size = batch_size)\n",
        "  pre=model_D.predict(local_representations)\n",
        "\n",
        "  pre=pre.squeeze()\n",
        "  p_list=(list(pre))\n",
        "  lowest_value_mutated.append(mutated[p_list.index(min(p_list))])\n",
        "  \n",
        "low_value_comparison=dict(zip(high_sequences, lowest_value_mutated))"
      ]
    },
    {
      "cell_type": "code",
      "execution_count": null,
      "metadata": {
        "colab": {
          "base_uri": "https://localhost:8080/",
          "height": 299
        },
        "id": "CjwW_sGeRk3W",
        "outputId": "d58d94f8-8398-4b03-d379-9cf147f014e1"
      },
      "outputs": [
        {
          "name": "stderr",
          "output_type": "stream",
          "text": [
            "WARNING:matplotlib.legend:No artists with labels found to put in legend.  Note that artists whose label start with an underscore are ignored when legend() is called with no argument.\n"
          ]
        },
        {
          "data": {
            "image/png": "[encoded data removed]",
            "text/plain": [
              "<Figure size 432x288 with 1 Axes>"
            ]
          },
          "metadata": {
            "needs_background": "light"
          },
          "output_type": "display_data"
        }
      ],
      "source": [
        "#Bar plot of amino acids which caused the highest decrease in a single point mutation.\n",
        "positionz=[]\n",
        "decreasing_AA=[]\n",
        "for k ,v in low_value_comparison.items():\n",
        "  for i in range(len(k)):\n",
        "    if k[i] != v[i]:\n",
        "      decreasing_AA.append(v[i])\n",
        "      positionz.append(i)\n",
        "count_per_aminoacid_decrease=[]\n",
        "for i in aminos:\n",
        "  count_per_aminoacid_decrease.append(decreasing_AA.count(i))\n",
        "\n",
        "\n",
        "plt.bar(aminos,count_per_aminoacid_decrease,alpha=0.5,color='b')\n",
        "plt.xlabel('amino acid')\n",
        "plt.ylabel('count')\n",
        "plt.legend(title='AA which caused significant decrease')\n",
        "plt.show()"
      ]
    },
    {
      "cell_type": "code",
      "execution_count": null,
      "metadata": {
        "colab": {
          "base_uri": "https://localhost:8080/",
          "height": 296
        },
        "id": "6KN1-XFXuzDF",
        "outputId": "5b929a9d-3879-4c99-fe41-db2e4b18454c"
      },
      "outputs": [
        {
          "name": "stderr",
          "output_type": "stream",
          "text": [
            "WARNING:matplotlib.legend:No artists with labels found to put in legend.  Note that artists whose label start with an underscore are ignored when legend() is called with no argument.\n"
          ]
        },
        {
          "data": {
            "image/png": "[encoded data removed]",
            "text/plain": [
              "<Figure size 432x288 with 1 Axes>"
            ]
          },
          "metadata": {
            "needs_background": "light"
          },
          "output_type": "display_data"
        }
      ],
      "source": [
        "#Bar plot of the fraction for each amino acid which it substitution caused the highest decrease\n",
        "\n",
        "decreasing_AA=[]\n",
        "for k ,v in low_value_comparison.items():\n",
        "  for i in range(len(k)):\n",
        "    if k[i] != v[i]:\n",
        "      decreasing_AA.append(k[i])\n",
        "count_per_aminoacid_decrease=[]\n",
        "for i in aminos:\n",
        "  count_per_aminoacid_decrease.append(decreasing_AA.count(i))\n",
        "\n",
        "\n",
        "plt.bar(aminos,count_per_aminoacid_decrease,alpha=0.5,color='y')\n",
        "plt.xlabel('amino acid')\n",
        "plt.ylabel('count')\n",
        "plt.legend(title='substitution of this AA caused significant decrease')\n",
        "plt.show()"
      ]
    },
    {
      "cell_type": "code",
      "execution_count": null,
      "metadata": {
        "colab": {
          "base_uri": "https://localhost:8080/",
          "height": 297
        },
        "id": "68gC5KVGh8oQ",
        "outputId": "d11bdd79-3f49-40e0-bf0f-b2b0fc68cf6a"
      },
      "outputs": [
        {
          "name": "stderr",
          "output_type": "stream",
          "text": [
            "WARNING:matplotlib.legend:No artists with labels found to put in legend.  Note that artists whose label start with an underscore are ignored when legend() is called with no argument.\n"
          ]
        },
        {
          "data": {
            "image/png": "[encoded data removed]",
            "text/plain": [
              "<Figure size 432x288 with 1 Axes>"
            ]
          },
          "metadata": {
            "needs_background": "light"
          },
          "output_type": "display_data"
        }
      ],
      "source": [
        "#Bar plot of substitutions positions.\n",
        "plt.hist(positionz,bins=20,color='m')\n",
        "plt.xlabel('position')\n",
        "plt.ylabel('count')\n",
        "plt.legend(title='positions which caused significant decrease')\n",
        "plt.show()"
      ]
    },
    {
      "cell_type": "markdown",
      "metadata": {
        "id": "mHgczDxmwAop"
      },
      "source": [
        "# HL relation with Hydrophobicity\n",
        "\n",
        "It is well known that Hydrophobic residues in general, and Tryptophan in particular play a role in peptide HL. Here we set out to check if this relation holds in our data set. We computed hydrophobicity according to Kyte and Doolitle scale using the BioPython package and plotted vs the predicted HL using our predictor."
      ]
    },
    {
      "cell_type": "code",
      "execution_count": null,
      "metadata": {
        "colab": {
          "base_uri": "https://localhost:8080/"
        },
        "id": "Frk70NJUtR5z",
        "outputId": "6d9439e6-f616-4d2d-e297-62e466799886"
      },
      "outputs": [
        {
          "name": "stdout",
          "output_type": "stream",
          "text": [
            "Looking in indexes: https://pypi.org/simple, https://us-python.pkg.dev/colab-wheels/public/simple/\n",
            "Collecting biopython\n",
            "  Downloading biopython-1.81-cp39-cp39-manylinux_2_17_x86_64.manylinux2014_x86_64.whl (3.1 MB)\n",
            "\u001b[2K     \u001b[90m━━━━━━━━━━━━━━━━━━━━━━━━━━━━━━━━━━━━━━━━\u001b[0m \u001b[32m3.1/3.1 MB\u001b[0m \u001b[31m77.4 MB/s\u001b[0m eta \u001b[36m0:00:00\u001b[0m\n",
            "\u001b[?25hRequirement already satisfied: numpy in /usr/local/lib/python3.9/dist-packages (from biopython) (1.22.4)\n",
            "Installing collected packages: biopython\n",
            "Successfully installed biopython-1.81\n"
          ]
        }
      ],
      "source": [
        "!pip install biopython\n",
        "from Bio.SeqUtils.ProtParam import ProteinAnalysis as PA"
      ]
    },
    {
      "cell_type": "code",
      "execution_count": null,
      "metadata": {
        "colab": {
          "base_uri": "https://localhost:8080/",
          "height": 279
        },
        "id": "haU_AYxdbIrB",
        "outputId": "0d0f4429-8d94-4e14-ae9c-4bf5ef72b721"
      },
      "outputs": [
        {
          "data": {
            "image/png": "[encoded data removed]",
            "text/plain": [
              "<Figure size 432x288 with 1 Axes>"
            ]
          },
          "metadata": {
            "needs_background": "light"
          },
          "output_type": "display_data"
        }
      ],
      "source": [
        "#for all test sequences\n",
        "hydrophobicity_on_dataset=[]\n",
        "for i in test['seq']:\n",
        "  protein=PA(i)\n",
        "  hydrophobicity_on_dataset.append(protein.gravy())\n",
        "\n",
        "plt.scatter(prediction ,hydrophobicity_on_dataset, c='b')\n",
        "plt.xlabel('prediction')\n",
        "plt.ylabel('hydrophobicity')\n",
        "plt.show()"
      ]
    },
    {
      "cell_type": "code",
      "execution_count": null,
      "metadata": {
        "colab": {
          "base_uri": "https://localhost:8080/",
          "height": 265
        },
        "id": "JO5IIDRAgUGv",
        "outputId": "7d7a4ed2-f64e-446f-f591-6313dddd86bb"
      },
      "outputs": [
        {
          "data": {
            "image/png": "[encoded data removed]",
            "text/plain": [
              "<Figure size 432x288 with 1 Axes>"
            ]
          },
          "metadata": {
            "needs_background": "light"
          },
          "output_type": "display_data"
        }
      ],
      "source": [
        "############try to draw a line in the center of density so show the weigted mean is maybe\n",
        "\n",
        "import numpy as np\n",
        "import matplotlib.pyplot as plt\n",
        "from scipy.stats import gaussian_kde\n",
        "\n",
        "prediction=np.squeeze(prediction)\n",
        "x=np.array(hydrophobicity_on_dataset)\n",
        "y=np.array(prediction)\n",
        "\n",
        "# Calculate the point density\n",
        "xy = np.vstack([x,y])\n",
        "z = gaussian_kde(xy)(xy)\n",
        "\n",
        "# Sort the points by density, so that the densest points are plotted last\n",
        "idx = z.argsort()\n",
        "x, y, z = x[idx], y[idx], z[idx]\n",
        "\n",
        "fig, ax = plt.subplots()\n",
        "ax.scatter(x, y, c=z, s=50)\n",
        "plt.show()\n",
        "#change axis"
      ]
    },
    {
      "cell_type": "markdown",
      "metadata": {
        "id": "eMdS39X2Vj42"
      },
      "source": [
        "## Relation with peptides’ Charge and Aromaticity\n",
        "\n",
        "Here we calculate aromaticity and charge physico-chemical  properties for the test dataset sequences, including hydrophobicity, aromaticity, and charge, using the ProteinAnalysis method from Biopython library. Then we create a dataframe that includes the predicted value, ground truth label, and the calculated protein properties for each sequence.\n"
      ]
    },
    {
      "cell_type": "code",
      "execution_count": null,
      "metadata": {
        "id": "doUF8_-MMZ6E"
      },
      "outputs": [],
      "source": [
        "#prediction is a variable that has the predicted value for all the test set\n",
        "flexibility=[]\n",
        "hydrophobicity=[]\n",
        "aromaticity=[]\n",
        "charge=[]\n",
        "for i in test['seq']:\n",
        "  protein=PA(i)\n",
        "  hydrophobicity.append(protein.gravy())\n",
        "  aromaticity.append(protein.aromaticity())\n",
        "  charge.append(protein.charge_at_pH(pH=7.4))\n",
        "\n",
        "\n",
        "\n",
        "import pandas as pd\n",
        "prediction=prediction.squeeze()\n",
        "prediction_list=(list(prediction))\n",
        "\n",
        "\n",
        "\n",
        "\n",
        "dataframe=pd.DataFrame({'Prediction': prediction_list ,\n",
        "                        'Ground truth': test['label'],\n",
        "                        'Hydrophobicity': hydrophobicity,\n",
        "                        'Aromaticity': aromaticity,\n",
        "                        'Charge': charge})\n"
      ]
    },
    {
      "cell_type": "code",
      "execution_count": null,
      "metadata": {
        "colab": {
          "base_uri": "https://localhost:8080/",
          "height": 424
        },
        "id": "BRqpCm1XPVDE",
        "outputId": "e2f354ea-b517-4fc8-c6af-5270d9a8a974"
      },
      "outputs": [
        {
          "data": {
            "text/html": [
              "\n",
              "  <div id=\"df-c33071d9-56d6-4be2-ac57-0e7d13e5bcf4\">\n",
              "    <div class=\"colab-df-container\">\n",
              "      <div>\n",
              "<style scoped>\n",
              "    .dataframe tbody tr th:only-of-type {\n",
              "        vertical-align: middle;\n",
              "    }\n",
              "\n",
              "    .dataframe tbody tr th {\n",
              "        vertical-align: top;\n",
              "    }\n",
              "\n",
              "    .dataframe thead th {\n",
              "        text-align: right;\n",
              "    }\n",
              "</style>\n",
              "<table border=\"1\" class=\"dataframe\">\n",
              "  <thead>\n",
              "    <tr style=\"text-align: right;\">\n",
              "      <th></th>\n",
              "      <th>Prediction</th>\n",
              "      <th>Ground truth</th>\n",
              "      <th>Hydrophobicity</th>\n",
              "      <th>Aromaticity</th>\n",
              "      <th>Charge</th>\n",
              "    </tr>\n",
              "  </thead>\n",
              "  <tbody>\n",
              "    <tr>\n",
              "      <th>0</th>\n",
              "      <td>0.837649</td>\n",
              "      <td>1</td>\n",
              "      <td>1.146154</td>\n",
              "      <td>0.153846</td>\n",
              "      <td>1.552442</td>\n",
              "    </tr>\n",
              "    <tr>\n",
              "      <th>1</th>\n",
              "      <td>0.423408</td>\n",
              "      <td>0</td>\n",
              "      <td>-0.800000</td>\n",
              "      <td>0.357143</td>\n",
              "      <td>5.549861</td>\n",
              "    </tr>\n",
              "    <tr>\n",
              "      <th>2</th>\n",
              "      <td>0.287530</td>\n",
              "      <td>0</td>\n",
              "      <td>0.713333</td>\n",
              "      <td>0.066667</td>\n",
              "      <td>2.549936</td>\n",
              "    </tr>\n",
              "    <tr>\n",
              "      <th>3</th>\n",
              "      <td>0.607196</td>\n",
              "      <td>1</td>\n",
              "      <td>-1.762500</td>\n",
              "      <td>0.187500</td>\n",
              "      <td>6.557277</td>\n",
              "    </tr>\n",
              "    <tr>\n",
              "      <th>4</th>\n",
              "      <td>0.740124</td>\n",
              "      <td>1</td>\n",
              "      <td>0.178571</td>\n",
              "      <td>0.071429</td>\n",
              "      <td>1.551057</td>\n",
              "    </tr>\n",
              "    <tr>\n",
              "      <th>...</th>\n",
              "      <td>...</td>\n",
              "      <td>...</td>\n",
              "      <td>...</td>\n",
              "      <td>...</td>\n",
              "      <td>...</td>\n",
              "    </tr>\n",
              "    <tr>\n",
              "      <th>484</th>\n",
              "      <td>0.794894</td>\n",
              "      <td>1</td>\n",
              "      <td>-0.231818</td>\n",
              "      <td>0.136364</td>\n",
              "      <td>5.552316</td>\n",
              "    </tr>\n",
              "    <tr>\n",
              "      <th>485</th>\n",
              "      <td>0.917107</td>\n",
              "      <td>1</td>\n",
              "      <td>1.138462</td>\n",
              "      <td>0.153846</td>\n",
              "      <td>0.554947</td>\n",
              "    </tr>\n",
              "    <tr>\n",
              "      <th>486</th>\n",
              "      <td>0.029686</td>\n",
              "      <td>0</td>\n",
              "      <td>-2.445455</td>\n",
              "      <td>0.272727</td>\n",
              "      <td>5.554822</td>\n",
              "    </tr>\n",
              "    <tr>\n",
              "      <th>487</th>\n",
              "      <td>0.703629</td>\n",
              "      <td>1</td>\n",
              "      <td>-0.372222</td>\n",
              "      <td>0.055556</td>\n",
              "      <td>6.581476</td>\n",
              "    </tr>\n",
              "    <tr>\n",
              "      <th>488</th>\n",
              "      <td>0.065259</td>\n",
              "      <td>0</td>\n",
              "      <td>-2.391667</td>\n",
              "      <td>0.083333</td>\n",
              "      <td>7.549810</td>\n",
              "    </tr>\n",
              "  </tbody>\n",
              "</table>\n",
              "<p>489 rows × 5 columns</p>\n",
              "</div>\n",
              "      <button class=\"colab-df-convert\" onclick=\"convertToInteractive('df-c33071d9-56d6-4be2-ac57-0e7d13e5bcf4')\"\n",
              "              title=\"Convert this dataframe to an interactive table.\"\n",
              "              style=\"display:none;\">\n",
              "        \n",
              "  <svg xmlns=\"http://www.w3.org/2000/svg\" height=\"24px\"viewBox=\"0 0 24 24\"\n",
              "       width=\"24px\">\n",
              "    <path d=\"M0 0h24v24H0V0z\" fill=\"none\"/>\n",
              "    <path d=\"M18.56 5.44l.94 2.06.94-2.06 2.06-.94-2.06-.94-.94-2.06-.94 2.06-2.06.94zm-11 1L8.5 8.5l.94-2.06 2.06-.94-2.06-.94L8.5 2.5l-.94 2.06-2.06.94zm10 10l.94 2.06.94-2.06 2.06-.94-2.06-.94-.94-2.06-.94 2.06-2.06.94z\"/><path d=\"M17.41 7.96l-1.37-1.37c-.4-.4-.92-.59-1.43-.59-.52 0-1.04.2-1.43.59L10.3 9.45l-7.72 7.72c-.78.78-.78 2.05 0 2.83L4 21.41c.39.39.9.59 1.41.59.51 0 1.02-.2 1.41-.59l7.78-7.78 2.81-2.81c.8-.78.8-2.07 0-2.86zM5.41 20L4 18.59l7.72-7.72 1.47 1.35L5.41 20z\"/>\n",
              "  </svg>\n",
              "      </button>\n",
              "      \n",
              "  <style>\n",
              "    .colab-df-container {\n",
              "      display:flex;\n",
              "      flex-wrap:wrap;\n",
              "      gap: 12px;\n",
              "    }\n",
              "\n",
              "    .colab-df-convert {\n",
              "      background-color: #E8F0FE;\n",
              "      border: none;\n",
              "      border-radius: 50%;\n",
              "      cursor: pointer;\n",
              "      display: none;\n",
              "      fill: #1967D2;\n",
              "      height: 32px;\n",
              "      padding: 0 0 0 0;\n",
              "      width: 32px;\n",
              "    }\n",
              "\n",
              "    .colab-df-convert:hover {\n",
              "      background-color: #E2EBFA;\n",
              "      box-shadow: 0px 1px 2px rgba(60, 64, 67, 0.3), 0px 1px 3px 1px rgba(60, 64, 67, 0.15);\n",
              "      fill: #174EA6;\n",
              "    }\n",
              "\n",
              "    [theme=dark] .colab-df-convert {\n",
              "      background-color: #3B4455;\n",
              "      fill: #D2E3FC;\n",
              "    }\n",
              "\n",
              "    [theme=dark] .colab-df-convert:hover {\n",
              "      background-color: #434B5C;\n",
              "      box-shadow: 0px 1px 3px 1px rgba(0, 0, 0, 0.15);\n",
              "      filter: drop-shadow(0px 1px 2px rgba(0, 0, 0, 0.3));\n",
              "      fill: #FFFFFF;\n",
              "    }\n",
              "  </style>\n",
              "\n",
              "      <script>\n",
              "        const buttonEl =\n",
              "          document.querySelector('#df-c33071d9-56d6-4be2-ac57-0e7d13e5bcf4 button.colab-df-convert');\n",
              "        buttonEl.style.display =\n",
              "          google.colab.kernel.accessAllowed ? 'block' : 'none';\n",
              "\n",
              "        async function convertToInteractive(key) {\n",
              "          const element = document.querySelector('#df-c33071d9-56d6-4be2-ac57-0e7d13e5bcf4');\n",
              "          const dataTable =\n",
              "            await google.colab.kernel.invokeFunction('convertToInteractive',\n",
              "                                                     [key], {});\n",
              "          if (!dataTable) return;\n",
              "\n",
              "          const docLinkHtml = 'Like what you see? Visit the ' +\n",
              "            '<a target=\"_blank\" href=https://colab.research.google.com/notebooks/data_table.ipynb>data table notebook</a>'\n",
              "            + ' to learn more about interactive tables.';\n",
              "          element.innerHTML = '';\n",
              "          dataTable['output_type'] = 'display_data';\n",
              "          await google.colab.output.renderOutput(dataTable, element);\n",
              "          const docLink = document.createElement('div');\n",
              "          docLink.innerHTML = docLinkHtml;\n",
              "          element.appendChild(docLink);\n",
              "        }\n",
              "      </script>\n",
              "    </div>\n",
              "  </div>\n",
              "  "
            ],
            "text/plain": [
              "     Prediction  Ground truth  Hydrophobicity  Aromaticity    Charge\n",
              "0      0.837649             1        1.146154     0.153846  1.552442\n",
              "1      0.423408             0       -0.800000     0.357143  5.549861\n",
              "2      0.287530             0        0.713333     0.066667  2.549936\n",
              "3      0.607196             1       -1.762500     0.187500  6.557277\n",
              "4      0.740124             1        0.178571     0.071429  1.551057\n",
              "..          ...           ...             ...          ...       ...\n",
              "484    0.794894             1       -0.231818     0.136364  5.552316\n",
              "485    0.917107             1        1.138462     0.153846  0.554947\n",
              "486    0.029686             0       -2.445455     0.272727  5.554822\n",
              "487    0.703629             1       -0.372222     0.055556  6.581476\n",
              "488    0.065259             0       -2.391667     0.083333  7.549810\n",
              "\n",
              "[489 rows x 5 columns]"
            ]
          },
          "execution_count": 39,
          "metadata": {},
          "output_type": "execute_result"
        }
      ],
      "source": [
        "dataframe"
      ]
    },
    {
      "cell_type": "code",
      "execution_count": null,
      "metadata": {
        "colab": {
          "base_uri": "https://localhost:8080/",
          "height": 655
        },
        "id": "3m2rxmyFIHJu",
        "outputId": "ffe77640-4a5a-4d64-c7bc-6add801072b8"
      },
      "outputs": [
        {
          "data": {
            "text/html": [
              "\n",
              "  <div id=\"df-4c2799f3-a25f-4319-abdc-59a0fd019c3f\">\n",
              "    <div class=\"colab-df-container\">\n",
              "      <div>\n",
              "<style scoped>\n",
              "    .dataframe tbody tr th:only-of-type {\n",
              "        vertical-align: middle;\n",
              "    }\n",
              "\n",
              "    .dataframe tbody tr th {\n",
              "        vertical-align: top;\n",
              "    }\n",
              "\n",
              "    .dataframe thead th {\n",
              "        text-align: right;\n",
              "    }\n",
              "</style>\n",
              "<table border=\"1\" class=\"dataframe\">\n",
              "  <thead>\n",
              "    <tr style=\"text-align: right;\">\n",
              "      <th></th>\n",
              "      <th>Prediction</th>\n",
              "      <th>Ground truth</th>\n",
              "      <th>Hydrophobicity</th>\n",
              "      <th>Aromaticity</th>\n",
              "      <th>Charge</th>\n",
              "    </tr>\n",
              "  </thead>\n",
              "  <tbody>\n",
              "    <tr>\n",
              "      <th>1</th>\n",
              "      <td>0.399595</td>\n",
              "      <td>0</td>\n",
              "      <td>-0.800000</td>\n",
              "      <td>0.357143</td>\n",
              "      <td>5.549861</td>\n",
              "    </tr>\n",
              "    <tr>\n",
              "      <th>2</th>\n",
              "      <td>0.288548</td>\n",
              "      <td>0</td>\n",
              "      <td>0.713333</td>\n",
              "      <td>0.066667</td>\n",
              "      <td>2.549936</td>\n",
              "    </tr>\n",
              "    <tr>\n",
              "      <th>6</th>\n",
              "      <td>0.108958</td>\n",
              "      <td>0</td>\n",
              "      <td>0.111111</td>\n",
              "      <td>0.000000</td>\n",
              "      <td>3.557352</td>\n",
              "    </tr>\n",
              "    <tr>\n",
              "      <th>7</th>\n",
              "      <td>0.126865</td>\n",
              "      <td>0</td>\n",
              "      <td>0.020000</td>\n",
              "      <td>0.000000</td>\n",
              "      <td>4.537506</td>\n",
              "    </tr>\n",
              "    <tr>\n",
              "      <th>8</th>\n",
              "      <td>0.085987</td>\n",
              "      <td>0</td>\n",
              "      <td>-0.570000</td>\n",
              "      <td>0.100000</td>\n",
              "      <td>4.508321</td>\n",
              "    </tr>\n",
              "    <tr>\n",
              "      <th>...</th>\n",
              "      <td>...</td>\n",
              "      <td>...</td>\n",
              "      <td>...</td>\n",
              "      <td>...</td>\n",
              "      <td>...</td>\n",
              "    </tr>\n",
              "    <tr>\n",
              "      <th>475</th>\n",
              "      <td>0.157396</td>\n",
              "      <td>0</td>\n",
              "      <td>-0.880000</td>\n",
              "      <td>0.100000</td>\n",
              "      <td>4.544925</td>\n",
              "    </tr>\n",
              "    <tr>\n",
              "      <th>479</th>\n",
              "      <td>0.011612</td>\n",
              "      <td>0</td>\n",
              "      <td>-1.393750</td>\n",
              "      <td>0.093750</td>\n",
              "      <td>3.588451</td>\n",
              "    </tr>\n",
              "    <tr>\n",
              "      <th>481</th>\n",
              "      <td>0.341255</td>\n",
              "      <td>0</td>\n",
              "      <td>0.035294</td>\n",
              "      <td>0.176471</td>\n",
              "      <td>6.539914</td>\n",
              "    </tr>\n",
              "    <tr>\n",
              "      <th>486</th>\n",
              "      <td>0.029902</td>\n",
              "      <td>0</td>\n",
              "      <td>-2.445455</td>\n",
              "      <td>0.272727</td>\n",
              "      <td>5.554822</td>\n",
              "    </tr>\n",
              "    <tr>\n",
              "      <th>488</th>\n",
              "      <td>0.061624</td>\n",
              "      <td>0</td>\n",
              "      <td>-2.391667</td>\n",
              "      <td>0.083333</td>\n",
              "      <td>7.549810</td>\n",
              "    </tr>\n",
              "  </tbody>\n",
              "</table>\n",
              "<p>231 rows × 5 columns</p>\n",
              "</div>\n",
              "      <button class=\"colab-df-convert\" onclick=\"convertToInteractive('df-4c2799f3-a25f-4319-abdc-59a0fd019c3f')\"\n",
              "              title=\"Convert this dataframe to an interactive table.\"\n",
              "              style=\"display:none;\">\n",
              "        \n",
              "  <svg xmlns=\"http://www.w3.org/2000/svg\" height=\"24px\"viewBox=\"0 0 24 24\"\n",
              "       width=\"24px\">\n",
              "    <path d=\"M0 0h24v24H0V0z\" fill=\"none\"/>\n",
              "    <path d=\"M18.56 5.44l.94 2.06.94-2.06 2.06-.94-2.06-.94-.94-2.06-.94 2.06-2.06.94zm-11 1L8.5 8.5l.94-2.06 2.06-.94-2.06-.94L8.5 2.5l-.94 2.06-2.06.94zm10 10l.94 2.06.94-2.06 2.06-.94-2.06-.94-.94-2.06-.94 2.06-2.06.94z\"/><path d=\"M17.41 7.96l-1.37-1.37c-.4-.4-.92-.59-1.43-.59-.52 0-1.04.2-1.43.59L10.3 9.45l-7.72 7.72c-.78.78-.78 2.05 0 2.83L4 21.41c.39.39.9.59 1.41.59.51 0 1.02-.2 1.41-.59l7.78-7.78 2.81-2.81c.8-.78.8-2.07 0-2.86zM5.41 20L4 18.59l7.72-7.72 1.47 1.35L5.41 20z\"/>\n",
              "  </svg>\n",
              "      </button>\n",
              "      \n",
              "  <style>\n",
              "    .colab-df-container {\n",
              "      display:flex;\n",
              "      flex-wrap:wrap;\n",
              "      gap: 12px;\n",
              "    }\n",
              "\n",
              "    .colab-df-convert {\n",
              "      background-color: #E8F0FE;\n",
              "      border: none;\n",
              "      border-radius: 50%;\n",
              "      cursor: pointer;\n",
              "      display: none;\n",
              "      fill: #1967D2;\n",
              "      height: 32px;\n",
              "      padding: 0 0 0 0;\n",
              "      width: 32px;\n",
              "    }\n",
              "\n",
              "    .colab-df-convert:hover {\n",
              "      background-color: #E2EBFA;\n",
              "      box-shadow: 0px 1px 2px rgba(60, 64, 67, 0.3), 0px 1px 3px 1px rgba(60, 64, 67, 0.15);\n",
              "      fill: #174EA6;\n",
              "    }\n",
              "\n",
              "    [theme=dark] .colab-df-convert {\n",
              "      background-color: #3B4455;\n",
              "      fill: #D2E3FC;\n",
              "    }\n",
              "\n",
              "    [theme=dark] .colab-df-convert:hover {\n",
              "      background-color: #434B5C;\n",
              "      box-shadow: 0px 1px 3px 1px rgba(0, 0, 0, 0.15);\n",
              "      filter: drop-shadow(0px 1px 2px rgba(0, 0, 0, 0.3));\n",
              "      fill: #FFFFFF;\n",
              "    }\n",
              "  </style>\n",
              "\n",
              "      <script>\n",
              "        const buttonEl =\n",
              "          document.querySelector('#df-4c2799f3-a25f-4319-abdc-59a0fd019c3f button.colab-df-convert');\n",
              "        buttonEl.style.display =\n",
              "          google.colab.kernel.accessAllowed ? 'block' : 'none';\n",
              "\n",
              "        async function convertToInteractive(key) {\n",
              "          const element = document.querySelector('#df-4c2799f3-a25f-4319-abdc-59a0fd019c3f');\n",
              "          const dataTable =\n",
              "            await google.colab.kernel.invokeFunction('convertToInteractive',\n",
              "                                                     [key], {});\n",
              "          if (!dataTable) return;\n",
              "\n",
              "          const docLinkHtml = 'Like what you see? Visit the ' +\n",
              "            '<a target=\"_blank\" href=https://colab.research.google.com/notebooks/data_table.ipynb>data table notebook</a>'\n",
              "            + ' to learn more about interactive tables.';\n",
              "          element.innerHTML = '';\n",
              "          dataTable['output_type'] = 'display_data';\n",
              "          await google.colab.output.renderOutput(dataTable, element);\n",
              "          const docLink = document.createElement('div');\n",
              "          docLink.innerHTML = docLinkHtml;\n",
              "          element.appendChild(docLink);\n",
              "        }\n",
              "      </script>\n",
              "    </div>\n",
              "  </div>\n",
              "  "
            ],
            "text/plain": [
              "     Prediction  Ground truth  Hydrophobicity  Aromaticity    Charge\n",
              "1      0.399595             0       -0.800000     0.357143  5.549861\n",
              "2      0.288548             0        0.713333     0.066667  2.549936\n",
              "6      0.108958             0        0.111111     0.000000  3.557352\n",
              "7      0.126865             0        0.020000     0.000000  4.537506\n",
              "8      0.085987             0       -0.570000     0.100000  4.508321\n",
              "..          ...           ...             ...          ...       ...\n",
              "475    0.157396             0       -0.880000     0.100000  4.544925\n",
              "479    0.011612             0       -1.393750     0.093750  3.588451\n",
              "481    0.341255             0        0.035294     0.176471  6.539914\n",
              "486    0.029902             0       -2.445455     0.272727  5.554822\n",
              "488    0.061624             0       -2.391667     0.083333  7.549810\n",
              "\n",
              "[231 rows x 5 columns]"
            ]
          },
          "execution_count": 9,
          "metadata": {},
          "output_type": "execute_result"
        }
      ],
      "source": [
        "#false positive\n",
        "dataframe[dataframe['Ground truth']==0].query('Prediction < 0.5')"
      ]
    },
    {
      "cell_type": "code",
      "execution_count": null,
      "metadata": {
        "colab": {
          "base_uri": "https://localhost:8080/",
          "height": 35
        },
        "id": "7WTfqO8psaQ6",
        "outputId": "e60784fe-86d0-45e8-8889-b5603460554a"
      },
      "outputs": [
        {
          "data": {
            "application/vnd.google.colaboratory.intrinsic+json": {
              "type": "string"
            },
            "text/plain": [
              "'FRIRVRVKWKLFKKI'"
            ]
          },
          "execution_count": 10,
          "metadata": {},
          "output_type": "execute_result"
        }
      ],
      "source": [
        "test['seq'][349]"
      ]
    },
    {
      "cell_type": "code",
      "execution_count": null,
      "metadata": {
        "colab": {
          "base_uri": "https://localhost:8080/"
        },
        "id": "mWklpO61sgFJ",
        "outputId": "0ccd953c-2c5d-4cb3-d670-92066ad5b348"
      },
      "outputs": [
        {
          "data": {
            "text/plain": [
              "0"
            ]
          },
          "execution_count": 11,
          "metadata": {},
          "output_type": "execute_result"
        }
      ],
      "source": [
        "test['label'][349]"
      ]
    },
    {
      "cell_type": "code",
      "execution_count": null,
      "metadata": {
        "colab": {
          "base_uri": "https://localhost:8080/",
          "height": 337
        },
        "id": "rWqTzu6eMvO9",
        "outputId": "86a44635-8993-4475-ecea-b0c49805d774"
      },
      "outputs": [
        {
          "data": {
            "image/png": "[encoded data removed]",
            "text/plain": [
              "<Figure size 432x288 with 2 Axes>"
            ]
          },
          "metadata": {
            "needs_background": "light"
          },
          "output_type": "display_data"
        }
      ],
      "source": [
        "corr = dataframe.corr()\n",
        "fig = plt.figure()\n",
        "ax = fig.add_subplot(111)\n",
        "\n",
        "cax = ax.matshow(corr,cmap='Blues', vmin=-1, vmax=1)\n",
        "fig.colorbar(cax)\n",
        "ticks = np.arange(0,len(dataframe.columns),1)\n",
        "ax.set_xticks(ticks)\n",
        "plt.xticks(rotation=90)\n",
        "ax.set_yticks(ticks)\n",
        "ax.set_xticklabels(dataframe.columns)\n",
        "ax.set_yticklabels(dataframe.columns)\n",
        "plt.show()"
      ]
    },
    {
      "cell_type": "code",
      "execution_count": null,
      "metadata": {
        "colab": {
          "base_uri": "https://localhost:8080/",
          "height": 206
        },
        "id": "Ddaw9UGNgbHK",
        "outputId": "ba83c677-38a4-4a0c-baec-428e52ac2212"
      },
      "outputs": [
        {
          "data": {
            "text/html": [
              "\n",
              "  <div id=\"df-ef17a2bb-dc1c-4e2c-9898-e43f42c656ae\">\n",
              "    <div class=\"colab-df-container\">\n",
              "      <div>\n",
              "<style scoped>\n",
              "    .dataframe tbody tr th:only-of-type {\n",
              "        vertical-align: middle;\n",
              "    }\n",
              "\n",
              "    .dataframe tbody tr th {\n",
              "        vertical-align: top;\n",
              "    }\n",
              "\n",
              "    .dataframe thead th {\n",
              "        text-align: right;\n",
              "    }\n",
              "</style>\n",
              "<table border=\"1\" class=\"dataframe\">\n",
              "  <thead>\n",
              "    <tr style=\"text-align: right;\">\n",
              "      <th></th>\n",
              "      <th>prediction</th>\n",
              "      <th>ground truth</th>\n",
              "      <th>hydrophobicity</th>\n",
              "      <th>aromaticity</th>\n",
              "      <th>charge</th>\n",
              "    </tr>\n",
              "  </thead>\n",
              "  <tbody>\n",
              "    <tr>\n",
              "      <th>prediction</th>\n",
              "      <td>1.000000</td>\n",
              "      <td>0.634129</td>\n",
              "      <td>0.463790</td>\n",
              "      <td>-0.032761</td>\n",
              "      <td>-0.108834</td>\n",
              "    </tr>\n",
              "    <tr>\n",
              "      <th>ground truth</th>\n",
              "      <td>0.634129</td>\n",
              "      <td>1.000000</td>\n",
              "      <td>0.284078</td>\n",
              "      <td>-0.017800</td>\n",
              "      <td>-0.082506</td>\n",
              "    </tr>\n",
              "    <tr>\n",
              "      <th>hydrophobicity</th>\n",
              "      <td>0.463790</td>\n",
              "      <td>0.284078</td>\n",
              "      <td>1.000000</td>\n",
              "      <td>-0.426520</td>\n",
              "      <td>-0.411486</td>\n",
              "    </tr>\n",
              "    <tr>\n",
              "      <th>aromaticity</th>\n",
              "      <td>-0.032761</td>\n",
              "      <td>-0.017800</td>\n",
              "      <td>-0.426520</td>\n",
              "      <td>1.000000</td>\n",
              "      <td>0.043961</td>\n",
              "    </tr>\n",
              "    <tr>\n",
              "      <th>charge</th>\n",
              "      <td>-0.108834</td>\n",
              "      <td>-0.082506</td>\n",
              "      <td>-0.411486</td>\n",
              "      <td>0.043961</td>\n",
              "      <td>1.000000</td>\n",
              "    </tr>\n",
              "  </tbody>\n",
              "</table>\n",
              "</div>\n",
              "      <button class=\"colab-df-convert\" onclick=\"convertToInteractive('df-ef17a2bb-dc1c-4e2c-9898-e43f42c656ae')\"\n",
              "              title=\"Convert this dataframe to an interactive table.\"\n",
              "              style=\"display:none;\">\n",
              "        \n",
              "  <svg xmlns=\"http://www.w3.org/2000/svg\" height=\"24px\"viewBox=\"0 0 24 24\"\n",
              "       width=\"24px\">\n",
              "    <path d=\"M0 0h24v24H0V0z\" fill=\"none\"/>\n",
              "    <path d=\"M18.56 5.44l.94 2.06.94-2.06 2.06-.94-2.06-.94-.94-2.06-.94 2.06-2.06.94zm-11 1L8.5 8.5l.94-2.06 2.06-.94-2.06-.94L8.5 2.5l-.94 2.06-2.06.94zm10 10l.94 2.06.94-2.06 2.06-.94-2.06-.94-.94-2.06-.94 2.06-2.06.94z\"/><path d=\"M17.41 7.96l-1.37-1.37c-.4-.4-.92-.59-1.43-.59-.52 0-1.04.2-1.43.59L10.3 9.45l-7.72 7.72c-.78.78-.78 2.05 0 2.83L4 21.41c.39.39.9.59 1.41.59.51 0 1.02-.2 1.41-.59l7.78-7.78 2.81-2.81c.8-.78.8-2.07 0-2.86zM5.41 20L4 18.59l7.72-7.72 1.47 1.35L5.41 20z\"/>\n",
              "  </svg>\n",
              "      </button>\n",
              "      \n",
              "  <style>\n",
              "    .colab-df-container {\n",
              "      display:flex;\n",
              "      flex-wrap:wrap;\n",
              "      gap: 12px;\n",
              "    }\n",
              "\n",
              "    .colab-df-convert {\n",
              "      background-color: #E8F0FE;\n",
              "      border: none;\n",
              "      border-radius: 50%;\n",
              "      cursor: pointer;\n",
              "      display: none;\n",
              "      fill: #1967D2;\n",
              "      height: 32px;\n",
              "      padding: 0 0 0 0;\n",
              "      width: 32px;\n",
              "    }\n",
              "\n",
              "    .colab-df-convert:hover {\n",
              "      background-color: #E2EBFA;\n",
              "      box-shadow: 0px 1px 2px rgba(60, 64, 67, 0.3), 0px 1px 3px 1px rgba(60, 64, 67, 0.15);\n",
              "      fill: #174EA6;\n",
              "    }\n",
              "\n",
              "    [theme=dark] .colab-df-convert {\n",
              "      background-color: #3B4455;\n",
              "      fill: #D2E3FC;\n",
              "    }\n",
              "\n",
              "    [theme=dark] .colab-df-convert:hover {\n",
              "      background-color: #434B5C;\n",
              "      box-shadow: 0px 1px 3px 1px rgba(0, 0, 0, 0.15);\n",
              "      filter: drop-shadow(0px 1px 2px rgba(0, 0, 0, 0.3));\n",
              "      fill: #FFFFFF;\n",
              "    }\n",
              "  </style>\n",
              "\n",
              "      <script>\n",
              "        const buttonEl =\n",
              "          document.querySelector('#df-ef17a2bb-dc1c-4e2c-9898-e43f42c656ae button.colab-df-convert');\n",
              "        buttonEl.style.display =\n",
              "          google.colab.kernel.accessAllowed ? 'block' : 'none';\n",
              "\n",
              "        async function convertToInteractive(key) {\n",
              "          const element = document.querySelector('#df-ef17a2bb-dc1c-4e2c-9898-e43f42c656ae');\n",
              "          const dataTable =\n",
              "            await google.colab.kernel.invokeFunction('convertToInteractive',\n",
              "                                                     [key], {});\n",
              "          if (!dataTable) return;\n",
              "\n",
              "          const docLinkHtml = 'Like what you see? Visit the ' +\n",
              "            '<a target=\"_blank\" href=https://colab.research.google.com/notebooks/data_table.ipynb>data table notebook</a>'\n",
              "            + ' to learn more about interactive tables.';\n",
              "          element.innerHTML = '';\n",
              "          dataTable['output_type'] = 'display_data';\n",
              "          await google.colab.output.renderOutput(dataTable, element);\n",
              "          const docLink = document.createElement('div');\n",
              "          docLink.innerHTML = docLinkHtml;\n",
              "          element.appendChild(docLink);\n",
              "        }\n",
              "      </script>\n",
              "    </div>\n",
              "  </div>\n",
              "  "
            ],
            "text/plain": [
              "                prediction  ground truth  hydrophobicity  aromaticity  \\\n",
              "prediction        1.000000      0.634129        0.463790    -0.032761   \n",
              "ground truth      0.634129      1.000000        0.284078    -0.017800   \n",
              "hydrophobicity    0.463790      0.284078        1.000000    -0.426520   \n",
              "aromaticity      -0.032761     -0.017800       -0.426520     1.000000   \n",
              "charge           -0.108834     -0.082506       -0.411486     0.043961   \n",
              "\n",
              "                  charge  \n",
              "prediction     -0.108834  \n",
              "ground truth   -0.082506  \n",
              "hydrophobicity -0.411486  \n",
              "aromaticity     0.043961  \n",
              "charge          1.000000  "
            ]
          },
          "execution_count": 36,
          "metadata": {},
          "output_type": "execute_result"
        }
      ],
      "source": [
        "corr"
      ]
    }
  ],
  "metadata": {
    "accelerator": "GPU",
    "colab": {
      "authorship_tag": "ABX9TyNilR7UXTaAYbIbVMoI3Rb2",
      "include_colab_link": true,
      "mount_file_id": "1hHq97JwkWJjEXyA9tnEsz6PK-XHYHaQ3",
      "provenance": []
    },
    "gpuClass": "standard",
    "kernelspec": {
      "display_name": "Python 3",
      "name": "python3"
    },
    "language_info": {
      "name": "python"
    }
  },
  "nbformat": 4,
  "nbformat_minor": 0
}
